{
 "cells": [
  {
   "cell_type": "code",
   "execution_count": 1,
   "metadata": {},
   "outputs": [],
   "source": [
    "import numpy as np \n",
    "import pandas as pd \n",
    "from matplotlib import pyplot as plt "
   ]
  },
  {
   "cell_type": "markdown",
   "metadata": {},
   "source": [
    "# Combination Ratio \n",
    "\n",
    " > \"The efficacy of each combination relative to its respective single agents was quantified with combination ratio (CR) values, defined as the IC50 or area under the fitted dose–response curve for the combination divided by the lowest IC50 or\n",
    "area under the curve (AUC) value for either single agent. By this metric, a CR value of less than 1 indicates the drug combination is more effective than either single agent. We derived these CR values because of known limitations of applying conventional synergy calculations when one or more of the single agents is completely ineffective on particular samples (25).\" [1]\n",
    "\n",
    "1. Kurtz SE, Eide CA, Kaempf A, Khanna V, Savage SL, Rofelty A, et al. Molecularly targeted drug combinations demonstrate selective effectiveness for myeloid- and lymphoid-derived hematologic malignancies. Proc Natl Acad Sci U S A. 2017 Sep 5;114(36):E7554–63. \n",
    "\n",
    "25. Chou TC (2006) Theoretical basis, experimental design, and computerized simulation of synergism and antagonism in drug combination studies. Pharmacol Rev 58: 621–681.\n",
    "\n",
    "--- \n",
    "\n",
    "We will interpret this as the following: \n",
    "\n",
    "$$  CR = \\frac{AUC_{combination}}{min(AUC_{drug1}, AUC_{drug2})} $$ "
   ]
  },
  {
   "cell_type": "markdown",
   "metadata": {},
   "source": [
    "# Load data "
   ]
  },
  {
   "cell_type": "code",
   "execution_count": 99,
   "metadata": {
    "scrolled": false
   },
   "outputs": [
    {
     "data": {
      "text/html": [
       "<div>\n",
       "<style scoped>\n",
       "    .dataframe tbody tr th:only-of-type {\n",
       "        vertical-align: middle;\n",
       "    }\n",
       "\n",
       "    .dataframe tbody tr th {\n",
       "        vertical-align: top;\n",
       "    }\n",
       "\n",
       "    .dataframe thead th {\n",
       "        text-align: right;\n",
       "    }\n",
       "</style>\n",
       "<table border=\"1\" class=\"dataframe\">\n",
       "  <thead>\n",
       "    <tr style=\"text-align: right;\">\n",
       "      <th></th>\n",
       "      <th>lab_id</th>\n",
       "      <th>inhibitor</th>\n",
       "      <th>AUC</th>\n",
       "      <th>plate_loc</th>\n",
       "      <th>flagged</th>\n",
       "      <th>max_conc</th>\n",
       "      <th>call</th>\n",
       "      <th>replicates</th>\n",
       "    </tr>\n",
       "  </thead>\n",
       "  <tbody>\n",
       "    <tr>\n",
       "      <th>0</th>\n",
       "      <td>10004</td>\n",
       "      <td>JQ1;BEZ235</td>\n",
       "      <td>1.044426</td>\n",
       "      <td>1.0:1.0:A:1.0-7.0</td>\n",
       "      <td>False</td>\n",
       "      <td>10;10</td>\n",
       "      <td>int</td>\n",
       "      <td>1.0</td>\n",
       "    </tr>\n",
       "    <tr>\n",
       "      <th>1</th>\n",
       "      <td>10021</td>\n",
       "      <td>JQ1;BEZ235</td>\n",
       "      <td>0.972533</td>\n",
       "      <td>2.0:1.0:A:1.0-7.0</td>\n",
       "      <td>False</td>\n",
       "      <td>10;10</td>\n",
       "      <td>int</td>\n",
       "      <td>1.0</td>\n",
       "    </tr>\n",
       "    <tr>\n",
       "      <th>2</th>\n",
       "      <td>10054</td>\n",
       "      <td>JQ1;BEZ235</td>\n",
       "      <td>1.639727</td>\n",
       "      <td>3.0:1.0:A:1.0-7.0</td>\n",
       "      <td>False</td>\n",
       "      <td>10;10</td>\n",
       "      <td>res</td>\n",
       "      <td>1.0</td>\n",
       "    </tr>\n",
       "    <tr>\n",
       "      <th>3</th>\n",
       "      <td>10058</td>\n",
       "      <td>JQ1;BEZ235</td>\n",
       "      <td>1.573965</td>\n",
       "      <td>4.0:1.0:A:1.0-7.0</td>\n",
       "      <td>False</td>\n",
       "      <td>10;10</td>\n",
       "      <td>res</td>\n",
       "      <td>1.0</td>\n",
       "    </tr>\n",
       "    <tr>\n",
       "      <th>4</th>\n",
       "      <td>10139</td>\n",
       "      <td>JQ1;BEZ235</td>\n",
       "      <td>1.330817</td>\n",
       "      <td>5.0:1.0:A:1.0-7.0</td>\n",
       "      <td>False</td>\n",
       "      <td>10;10</td>\n",
       "      <td>int</td>\n",
       "      <td>1.0</td>\n",
       "    </tr>\n",
       "  </tbody>\n",
       "</table>\n",
       "</div>"
      ],
      "text/plain": [
       "   lab_id   inhibitor       AUC          plate_loc  flagged max_conc call  \\\n",
       "0   10004  JQ1;BEZ235  1.044426  1.0:1.0:A:1.0-7.0    False    10;10  int   \n",
       "1   10021  JQ1;BEZ235  0.972533  2.0:1.0:A:1.0-7.0    False    10;10  int   \n",
       "2   10054  JQ1;BEZ235  1.639727  3.0:1.0:A:1.0-7.0    False    10;10  res   \n",
       "3   10058  JQ1;BEZ235  1.573965  4.0:1.0:A:1.0-7.0    False    10;10  res   \n",
       "4   10139  JQ1;BEZ235  1.330817  5.0:1.0:A:1.0-7.0    False    10;10  int   \n",
       "\n",
       "   replicates  \n",
       "0         1.0  \n",
       "1         1.0  \n",
       "2         1.0  \n",
       "3         1.0  \n",
       "4         1.0  "
      ]
     },
     "execution_count": 99,
     "metadata": {},
     "output_type": "execute_result"
    }
   ],
   "source": [
    "data = pd.read_csv('../output/HNSCC_cleaned_data.csv')\n",
    "data.head()\n",
    "#print( '\\n'.join( data.inhibitor.unique() ) )"
   ]
  },
  {
   "cell_type": "markdown",
   "metadata": {},
   "source": [
    "# Process combination "
   ]
  },
  {
   "cell_type": "code",
   "execution_count": 100,
   "metadata": {},
   "outputs": [],
   "source": [
    "def get_combination_ratio(comb, lab_id, df, verbose=True): \n",
    "    '''\n",
    "    summ \n",
    "    \n",
    "    input\n",
    "        comb <str> should be in form: \"drug1;drug2\"; There should not be more than 2 drugs in combination. \n",
    "        data <dataframe> \n",
    "        \n",
    "    output \n",
    "        combination ratio <float> \n",
    "    '''\n",
    "    \n",
    "    data = df[df.lab_id == lab_id]\n",
    "    \n",
    "    assert comb.count(';') == 1, f'expected only 2 drugs, received {comb.count(\";\")}: \\n\\t {comb}'\n",
    "    \n",
    "    drug1, drug2 = comb.strip().split(';')\n",
    "    \n",
    "    if verbose: print('calculating CR for:', (drug1, drug2))\n",
    "        \n",
    "    comb_df = data[data.inhibitor == comb]\n",
    "    drug1_df = data[data.inhibitor == drug1]\n",
    "    drug2_df = data[data.inhibitor == drug2]\n",
    "    \n",
    "    #print(comb_df)\n",
    "    #print(drug1_df)\n",
    "    #print(drug2_df)\n",
    "    \n",
    "    assert comb_df.shape[0] == 1, f'combination data expected one entry, but got {comb_df.shape[0]}'\n",
    "    assert drug1_df.shape[0] == 1, f'{drug1} data expected one entry, but got {drug1_df.shape[0]}'\n",
    "    assert drug2_df.shape[0] == 1, f'{drug2} data expected one entry, but got {drug2_df.shape[0]}'\n",
    "    \n",
    "    comb_AUC = float( comb_df['AUC'].values[0] )\n",
    "    drug1_AUC = float( drug1_df['AUC'].values[0] )\n",
    "    drug2_AUC = float( drug2_df['AUC'].values[0] )\n",
    "    \n",
    "    CR = comb_AUC / min(drug1_AUC, drug2_AUC)\n",
    "    \n",
    "    return CR "
   ]
  },
  {
   "cell_type": "markdown",
   "metadata": {},
   "source": [
    "# Test example"
   ]
  },
  {
   "cell_type": "code",
   "execution_count": 101,
   "metadata": {},
   "outputs": [
    {
     "name": "stdout",
     "output_type": "stream",
     "text": [
      "calculating CR for: ('Vandetanib', 'GDC-0941')\n",
      "Vandetanib;GDC-0941 CR value: 1.1173498779392539\n"
     ]
    }
   ],
   "source": [
    "comb = \"Vandetanib;GDC-0941\"\n",
    "labid = 10004\n",
    "\n",
    "CR = get_combination_ratio(comb, labid, data)\n",
    "\n",
    "print(f'{comb} CR value: {CR}')"
   ]
  },
  {
   "cell_type": "markdown",
   "metadata": {},
   "source": [
    "# Process all"
   ]
  },
  {
   "cell_type": "code",
   "execution_count": 102,
   "metadata": {},
   "outputs": [
    {
     "name": "stdout",
     "output_type": "stream",
     "text": [
      "in progress... 95.00%\t\t\t\r"
     ]
    },
    {
     "data": {
      "text/html": [
       "<div>\n",
       "<style scoped>\n",
       "    .dataframe tbody tr th:only-of-type {\n",
       "        vertical-align: middle;\n",
       "    }\n",
       "\n",
       "    .dataframe tbody tr th {\n",
       "        vertical-align: top;\n",
       "    }\n",
       "\n",
       "    .dataframe thead th {\n",
       "        text-align: right;\n",
       "    }\n",
       "</style>\n",
       "<table border=\"1\" class=\"dataframe\">\n",
       "  <thead>\n",
       "    <tr style=\"text-align: right;\">\n",
       "      <th></th>\n",
       "      <th>lab_id</th>\n",
       "      <th>inhibitor</th>\n",
       "      <th>CR</th>\n",
       "    </tr>\n",
       "  </thead>\n",
       "  <tbody>\n",
       "    <tr>\n",
       "      <th>0</th>\n",
       "      <td>10004</td>\n",
       "      <td>Vandetanib;GDC-0941</td>\n",
       "      <td>1.117350</td>\n",
       "    </tr>\n",
       "    <tr>\n",
       "      <th>1</th>\n",
       "      <td>10004</td>\n",
       "      <td>Canertinib (CI-1033);PI-103</td>\n",
       "      <td>0.400734</td>\n",
       "    </tr>\n",
       "    <tr>\n",
       "      <th>2</th>\n",
       "      <td>10004</td>\n",
       "      <td>Vandetanib;PI-103</td>\n",
       "      <td>0.983893</td>\n",
       "    </tr>\n",
       "    <tr>\n",
       "      <th>3</th>\n",
       "      <td>10004</td>\n",
       "      <td>Vandetanib;Belinostat</td>\n",
       "      <td>0.704335</td>\n",
       "    </tr>\n",
       "    <tr>\n",
       "      <th>4</th>\n",
       "      <td>10004</td>\n",
       "      <td>Vandetanib;Idelasib (GS-1101)</td>\n",
       "      <td>0.729440</td>\n",
       "    </tr>\n",
       "  </tbody>\n",
       "</table>\n",
       "</div>"
      ],
      "text/plain": [
       "   lab_id                      inhibitor        CR\n",
       "0   10004            Vandetanib;GDC-0941  1.117350\n",
       "1   10004    Canertinib (CI-1033);PI-103  0.400734\n",
       "2   10004              Vandetanib;PI-103  0.983893\n",
       "3   10004          Vandetanib;Belinostat  0.704335\n",
       "4   10004  Vandetanib;Idelasib (GS-1101)  0.729440"
      ]
     },
     "execution_count": 102,
     "metadata": {},
     "output_type": "execute_result"
    }
   ],
   "source": [
    "combinations = data.inhibitor.str.contains(';')\n",
    "\n",
    "res = {'lab_id':[], 'inhibitor':[], 'CR':[]}\n",
    "\n",
    "npat = data.lab_id.unique().shape[0]\n",
    "failed_combinations = [] \n",
    "\n",
    "for i, labid in enumerate( data.lab_id.unique() ): \n",
    "    print(f'in progress... {i/npat * 100 :.2f}%', end='\\t\\t\\t\\r')\n",
    "    pat = data[data.lab_id == labid]\n",
    "    for comb in pat[pat.inhibitor.str.contains(';')].inhibitor.unique(): \n",
    "        try: \n",
    "            CR = get_combination_ratio(comb, labid, pat, verbose=False)\n",
    "            res['lab_id'].append(labid)\n",
    "            res['inhibitor'].append(comb)\n",
    "            res['CR'].append(CR)\n",
    "        except AssertionError: \n",
    "            failed_combinations.append(comb)\n",
    "        \n",
    "res = pd.DataFrame(res)\n",
    "res.head()"
   ]
  },
  {
   "cell_type": "markdown",
   "metadata": {},
   "source": [
    "# Distribution of Combination Ratio values "
   ]
  },
  {
   "cell_type": "code",
   "execution_count": 103,
   "metadata": {},
   "outputs": [
    {
     "data": {
      "image/png": "[encoded data removed]",
      "text/plain": [
       "<Figure size 432x288 with 1 Axes>"
      ]
     },
     "metadata": {},
     "output_type": "display_data"
    }
   ],
   "source": [
    "plt.figure()\n",
    "plt.hist(res.CR)\n",
    "plt.show()"
   ]
  },
  {
   "cell_type": "markdown",
   "metadata": {},
   "source": [
    "# Synergistic combinations \n",
    "\n",
    "We'll use less than `0.9` to denote synergy "
   ]
  },
  {
   "cell_type": "code",
   "execution_count": 67,
   "metadata": {},
   "outputs": [
    {
     "data": {
      "text/html": [
       "<div>\n",
       "<style scoped>\n",
       "    .dataframe tbody tr th:only-of-type {\n",
       "        vertical-align: middle;\n",
       "    }\n",
       "\n",
       "    .dataframe tbody tr th {\n",
       "        vertical-align: top;\n",
       "    }\n",
       "\n",
       "    .dataframe thead th {\n",
       "        text-align: right;\n",
       "    }\n",
       "</style>\n",
       "<table border=\"1\" class=\"dataframe\">\n",
       "  <thead>\n",
       "    <tr style=\"text-align: right;\">\n",
       "      <th></th>\n",
       "      <th>lab_id</th>\n",
       "      <th>inhibitor</th>\n",
       "      <th>CR</th>\n",
       "    </tr>\n",
       "  </thead>\n",
       "  <tbody>\n",
       "    <tr>\n",
       "      <th>1</th>\n",
       "      <td>10004</td>\n",
       "      <td>Canertinib (CI-1033);PI-103</td>\n",
       "      <td>0.400734</td>\n",
       "    </tr>\n",
       "    <tr>\n",
       "      <th>3</th>\n",
       "      <td>10004</td>\n",
       "      <td>Vandetanib;Belinostat</td>\n",
       "      <td>0.704335</td>\n",
       "    </tr>\n",
       "    <tr>\n",
       "      <th>4</th>\n",
       "      <td>10004</td>\n",
       "      <td>Vandetanib;Idelasib (GS-1101)</td>\n",
       "      <td>0.729440</td>\n",
       "    </tr>\n",
       "    <tr>\n",
       "      <th>7</th>\n",
       "      <td>10004</td>\n",
       "      <td>Vandetanib;Taselisib (GDC-0032)</td>\n",
       "      <td>0.752586</td>\n",
       "    </tr>\n",
       "    <tr>\n",
       "      <th>10</th>\n",
       "      <td>10021</td>\n",
       "      <td>Canertinib (CI-1033);PI-103</td>\n",
       "      <td>0.651554</td>\n",
       "    </tr>\n",
       "  </tbody>\n",
       "</table>\n",
       "</div>"
      ],
      "text/plain": [
       "    lab_id                        inhibitor        CR\n",
       "1    10004      Canertinib (CI-1033);PI-103  0.400734\n",
       "3    10004            Vandetanib;Belinostat  0.704335\n",
       "4    10004    Vandetanib;Idelasib (GS-1101)  0.729440\n",
       "7    10004  Vandetanib;Taselisib (GDC-0032)  0.752586\n",
       "10   10021      Canertinib (CI-1033);PI-103  0.651554"
      ]
     },
     "execution_count": 67,
     "metadata": {},
     "output_type": "execute_result"
    }
   ],
   "source": [
    "syn = res[res.CR <= 0.9]\n",
    "syn.head()"
   ]
  },
  {
   "cell_type": "code",
   "execution_count": 106,
   "metadata": {},
   "outputs": [
    {
     "data": {
      "image/png": "[encoded data removed]",
      "text/plain": [
       "<Figure size 504x504 with 1 Axes>"
      ]
     },
     "metadata": {},
     "output_type": "display_data"
    }
   ],
   "source": [
    "cnt = syn.groupby('inhibitor').count()['CR'].reset_index()\n",
    "\n",
    "f,ax = plt.subplots(1,1, figsize=(7,7))\n",
    "ax.bar(cnt.inhibitor, cnt.CR)\n",
    "ax.set_xticklabels(cnt.inhibitor, rotation=40, ha='right')\n",
    "\n",
    "ax.set_ylabel('count')\n",
    "ax.set_xlabel('inhibitor combinations')\n",
    "ax.set_title('synergistic results by combination')\n",
    "plt.show()"
   ]
  },
  {
   "cell_type": "markdown",
   "metadata": {},
   "source": [
    "# Plot CR distributions"
   ]
  },
  {
   "cell_type": "code",
   "execution_count": 109,
   "metadata": {},
   "outputs": [
    {
     "data": {
      "image/png": "[encoded data removed]",
      "text/plain": [
       "<Figure size 1080x576 with 9 Axes>"
      ]
     },
     "metadata": {},
     "output_type": "display_data"
    }
   ],
   "source": [
    "f,axes = plt.subplots(3,3, figsize=(15,8), sharex=False, sharey=True)\n",
    "\n",
    "for ax, comb in zip(axes.flat, res.inhibitor.unique()): \n",
    "    df = res[res.inhibitor == comb] \n",
    "    ax.hist(df.CR, bins=np.linspace(0,2,20))\n",
    "    ax.axvline(df.CR.mean(), c='r', label='mean CR')\n",
    "    ax.set_title(comb)\n",
    "    ax.legend()\n",
    "    ax.set_xlabel('Combination Ratio (CR)')\n",
    "    ax.set_ylabel('count')\n",
    "    \n",
    "plt.tight_layout()\n",
    "plt.show()    "
   ]
  },
  {
   "cell_type": "markdown",
   "metadata": {},
   "source": [
    "# Combinations that failed\n",
    "\n",
    "I suspect most of these failed because the names aren't correct. For instance, if the single agent name is different from it's combination name, it'll fail. \n",
    "\n",
    "There are a number of drugs that I misinterpreted as multiple drugs, for those, it should be an easy fix. "
   ]
  },
  {
   "cell_type": "code",
   "execution_count": 112,
   "metadata": {
    "scrolled": false
   },
   "outputs": [
    {
     "data": {
      "text/plain": [
       "{'Afatinib;Gefitinib',\n",
       " 'Axitinib;Gefitinib',\n",
       " 'Bosutinib;Gefitinib',\n",
       " 'Ceritinib;Gefitinib',\n",
       " 'Crizotinib;Gefitinib',\n",
       " 'Dasatinib;Erlotinib;Hydrochloride',\n",
       " 'Dasatinib;Gefitinib',\n",
       " 'Dasatinib;Lapatinib;Ditosylate',\n",
       " 'Erlotinib;Hydrochloride;Afatinib;Dimaleate',\n",
       " 'Erlotinib;Hydrochloride;Axitinib',\n",
       " 'Erlotinib;Hydrochloride;BEZ235',\n",
       " 'Erlotinib;Hydrochloride;Belinostat',\n",
       " 'Erlotinib;Hydrochloride;Bosutinib',\n",
       " 'Erlotinib;Hydrochloride;Crizotinib',\n",
       " 'Erlotinib;Hydrochloride;Fulvestrant',\n",
       " 'Erlotinib;Hydrochloride;GDC-0941',\n",
       " 'Erlotinib;Hydrochloride;Idelasib (GS-1101)',\n",
       " 'Erlotinib;Hydrochloride;Imatinib;Mesylate',\n",
       " 'Erlotinib;Hydrochloride;Nilotinib',\n",
       " 'Erlotinib;Hydrochloride;PI-103',\n",
       " 'Erlotinib;Hydrochloride;Panobinostat',\n",
       " 'Erlotinib;Hydrochloride;Pazopanib;Hydrochloride',\n",
       " 'Erlotinib;Hydrochloride;Pemetrexed Disodium',\n",
       " 'Erlotinib;Hydrochloride;Ponatinib;Hydrochloride',\n",
       " 'Erlotinib;Hydrochloride;Romidepsin',\n",
       " 'Erlotinib;Hydrochloride;Ruxolitinib;Phosphate',\n",
       " 'Erlotinib;Hydrochloride;Taselisib (GDC-0032)',\n",
       " 'Erlotinib;Hydrochloride;Vorinostat',\n",
       " 'Gefitinib;Belinostat',\n",
       " 'Gefitinib;Erlotinib;Hydrochloride',\n",
       " 'Gefitinib;Fulvestrant',\n",
       " 'Gefitinib;GDC-0941',\n",
       " 'Gefitinib;IMR 1',\n",
       " 'Gefitinib;Idelasib (GS-1101)',\n",
       " 'Gefitinib;Imatinib;Mesylate',\n",
       " 'Gefitinib;LY3039478',\n",
       " 'Gefitinib;Lapatinib;Ditosylate',\n",
       " 'Gefitinib;Nilotinib',\n",
       " 'Gefitinib;PI-103',\n",
       " 'Gefitinib;Panobinostat',\n",
       " 'Gefitinib;Pazopanib;Hydrochloride',\n",
       " 'Gefitinib;Pemetrexed;Disodium',\n",
       " 'Gefitinib;Ponatinib;Hydrochloride',\n",
       " 'Gefitinib;Romidepsin',\n",
       " 'Gefitinib;Sorafenib;Tosylate',\n",
       " 'Gefitinib;Taselisib (GDC-0032)',\n",
       " 'Gefitinib;Vandetanib',\n",
       " 'Gefitinib;Vorinostat',\n",
       " 'I-BET 762;BEZ235',\n",
       " 'I-BET 762;Gefitinib',\n",
       " 'JQ1;BEZ235',\n",
       " 'JQ1;Gefitinib',\n",
       " 'Lapatinib;Ditosylate;Afatinib;Dimaleate',\n",
       " 'Lapatinib;Ditosylate;Axitinib',\n",
       " 'Lapatinib;Ditosylate;BEZ235',\n",
       " 'Lapatinib;Ditosylate;Belinostat',\n",
       " 'Lapatinib;Ditosylate;Bosutinib',\n",
       " 'Lapatinib;Ditosylate;Fulvestrant',\n",
       " 'Lapatinib;Ditosylate;GDC-0941',\n",
       " 'Lapatinib;Ditosylate;Idelasib (GS-1101)',\n",
       " 'Lapatinib;Ditosylate;Imatinib;Mesylate',\n",
       " 'Lapatinib;Ditosylate;PI-103',\n",
       " 'Lapatinib;Ditosylate;Pazopanib;Hydrochloride',\n",
       " 'Lapatinib;Ditosylate;Pemetrexed Disodium',\n",
       " 'Lapatinib;Ditosylate;Ponatinib;Hydrochloride',\n",
       " 'Lapatinib;Ditosylate;Romidepsin',\n",
       " 'Lapatinib;Ditosylate;Ruxolitinib;Phosphate',\n",
       " 'Lapatinib;Ditosylate;Sorafenib;Tosylate',\n",
       " 'Lapatinib;Ditosylate;Taselisib (GDC-0032)',\n",
       " 'Lapatinib;Ditosylate;Vorinostat',\n",
       " 'PP242;Gefitinib',\n",
       " 'Ruxolitinib;Gefitinib',\n",
       " 'Sorafenib;Erlotinib;Hydrochloride;Tosylate',\n",
       " 'Sunitinib;Erlotinib;Hydrochloride;Malate',\n",
       " 'Sunitinib;Gefitinib;Malate',\n",
       " 'Sunitinib;Lapatinib;Ditosylate;Malate',\n",
       " 'Sunitinib;Malate;Afatinib;Dimaleate',\n",
       " 'Sunitinib;Malate;Axitinib',\n",
       " 'Sunitinib;Malate;Belinostat',\n",
       " 'Sunitinib;Malate;Bosutinib',\n",
       " 'Sunitinib;Malate;Dasatinib',\n",
       " 'Sunitinib;Malate;Fulvestrant',\n",
       " 'Sunitinib;Malate;Imatinib;Mesylate',\n",
       " 'Sunitinib;Malate;Pazopanib;Hydrochloride',\n",
       " 'Sunitinib;Malate;Pemetrexed Disodium',\n",
       " 'Sunitinib;Malate;Ponatinib;Hydrochloride',\n",
       " 'Sunitinib;Malate;Romidepsin',\n",
       " 'Sunitinib;Malate;Ruxolitinib;Phosphate',\n",
       " 'Sunitinib;Malate;Sorafenib;Tosylate',\n",
       " 'Sunitinib;Malate;Vorinostat',\n",
       " 'Trametinib;Gefitinib',\n",
       " 'Vandetanib;Afatinib;Dimaleate',\n",
       " 'Vandetanib;BEZ235',\n",
       " 'Vandetanib;Dasatinib',\n",
       " 'Vandetanib;Erlotinib;Hydrochloride',\n",
       " 'Vandetanib;Fulvestrant',\n",
       " 'Vandetanib;Imatinib;Mesylate',\n",
       " 'Vandetanib;Pemetrexed Disodium',\n",
       " 'Vandetanib;Ponatinib;Hydrochloride',\n",
       " 'Vandetanib;Ruxolitinib;Phosphate',\n",
       " 'Vandetanib;Taselisib (GDC-0032)'}"
      ]
     },
     "execution_count": 112,
     "metadata": {},
     "output_type": "execute_result"
    }
   ],
   "source": [
    "set( failed_combinations )"
   ]
  },
  {
   "cell_type": "code",
   "execution_count": null,
   "metadata": {},
   "outputs": [],
   "source": []
  }
 ],
 "metadata": {
  "kernelspec": {
   "display_name": "Python 3",
   "language": "python",
   "name": "python3"
  },
  "language_info": {
   "codemirror_mode": {
    "name": "ipython",
    "version": 3
   },
   "file_extension": ".py",
   "mimetype": "text/x-python",
   "name": "python",
   "nbconvert_exporter": "python",
   "pygments_lexer": "ipython3",
   "version": "3.6.5"
  },
  "toc": {
   "base_numbering": 1,
   "nav_menu": {},
   "number_sections": true,
   "sideBar": true,
   "skip_h1_title": false,
   "title_cell": "Table of Contents",
   "title_sidebar": "Contents",
   "toc_cell": false,
   "toc_position": {},
   "toc_section_display": true,
   "toc_window_display": true
  }
 },
 "nbformat": 4,
 "nbformat_minor": 2
}
