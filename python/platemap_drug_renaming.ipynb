{
 "cells": [
  {
   "cell_type": "code",
   "execution_count": 1,
   "metadata": {},
   "outputs": [],
   "source": [
    "import numpy as np \n",
    "import pandas as pd \n",
    "from matplotlib import pyplot as plt \n",
    "\n",
    "import os\n",
    "import sys \n",
    "\n",
    "from openpyxl import Workbook, load_workbook"
   ]
  },
  {
   "cell_type": "markdown",
   "metadata": {},
   "source": [
    "# Combination Index Analysis \n",
    "\n",
    "[This](https://www.ncbi.nlm.nih.gov/pmc/articles/PMC2885905/pdf/nihms200765.pdf) is a good review, ref: \n",
    "\n",
    "1. Zhao L, Au JL-S, Wientjes MG. Comparison of methods for evaluating drug-drug interaction. Front Biosci (Elite Ed). 2010 Jan 1;2:241–9. \n",
    "\n",
    "We will be using the \n"
   ]
  },
  {
   "cell_type": "code",
   "execution_count": 2,
   "metadata": {},
   "outputs": [
    {
     "data": {
      "text/plain": [
       "['plate1-concentrations',\n",
       " 'plate1-inhibitors',\n",
       " 'plate2-concentrations',\n",
       " 'plate2-inhibitors',\n",
       " 'plate3-concentrations',\n",
       " 'plate3-inhibitors',\n",
       " 'plate4-concentrations',\n",
       " 'plate4-inhibitors',\n",
       " 'plate5-concentrations',\n",
       " 'plate5-inhibitors',\n",
       " 'plate6-concentrations',\n",
       " 'plate6-inhibitors']"
      ]
     },
     "execution_count": 2,
     "metadata": {},
     "output_type": "execute_result"
    }
   ],
   "source": [
    "map_path = '../plate_maps-backup/HNSCC_plate_map-version_id=OHSU_HNSCC_derm002.xlsx'\n",
    "test     = '../plate_maps-backup/HNSCC_plate_map-version_id=OHSU_HNSCC_derm002.xlsx'\n",
    "book = load_workbook(test)    \n",
    "sheets = list(book.sheetnames)\n",
    "sheets.pop(0)\n",
    "sheets"
   ]
  },
  {
   "cell_type": "code",
   "execution_count": 3,
   "metadata": {},
   "outputs": [
    {
     "data": {
      "text/plain": [
       "<Worksheet \"meta\">"
      ]
     },
     "execution_count": 3,
     "metadata": {},
     "output_type": "execute_result"
    }
   ],
   "source": [
    "book.active"
   ]
  },
  {
   "cell_type": "markdown",
   "metadata": {},
   "source": [
    "# Purpose \n",
    "\n",
    "Many of the drug names are incorrectly listed on the platemaps. Rather than going into each platemap and manually renaming everything, `which would be frought with peril,` wel will programatically rename these plate maps. \n",
    "\n",
    "## Procedure Followed to rename drugs \n",
    "\n",
    "1. \"original\" plate maps are stored in `../platemap-backup/.` and remain unchanged. \n",
    "2. using the output file `HNSCC_all_functional_data.csv` produced by the original platemaps and ~20 patients (as of 4/18/2020), I grabbed all unique drug names (single agent + combo) and produced the file `drug_name_rework.xlsx`. \n",
    "    a) the first column in this excel contians these original drug names (those stored in the original drug plate maps) \n",
    "    b) the second column contains the names renamed as I think they should be \n",
    "    c) the third column is the capitalized version of col 2 - to minimize complexity \n",
    "3. This file is use to create a dictionary mapping {original_names -> correct_name_CAPS}\n",
    "4. The dictionary is applied across all inhibitor platemaps and the resulting platemap files are save to `../platemaps/.` \n",
    "\n",
    "For future name changes, I suggest working from the plate map backups directory and updating column 2 of the `rework` excel file. \n",
    "\n",
    "\n",
    "# Incorrect Drug Names \n",
    "\n",
    "We have a list of combination drugs that we know are incorrect, we can start with those.\n",
    "\n",
    "## Load data \n",
    "\n",
    "This is output from the `combination_ratio.ipynb` notebook. "
   ]
  },
  {
   "cell_type": "code",
   "execution_count": 4,
   "metadata": {},
   "outputs": [],
   "source": [
    "#failed_comb = pd.read_csv('../output/failed_combinations.txt', header=None)[0].values.tolist()\n",
    "\n",
    "#print('number of failed drug combination names:', len(failed_comb))\n",
    "\n",
    "#print('\\n'.join(failed_comb))"
   ]
  },
  {
   "cell_type": "markdown",
   "metadata": {},
   "source": [
    "# Lets just grab all drugs \n",
    "\n",
    "To be sure we have them correct. This is just to produce the list of drugs in `drug_name_rework.xlsx` "
   ]
  },
  {
   "cell_type": "code",
   "execution_count": 5,
   "metadata": {
    "scrolled": false
   },
   "outputs": [
    {
     "name": "stdout",
     "output_type": "stream",
     "text": [
      "number of combination agents 108\n"
     ]
    }
   ],
   "source": [
    "_all = pd.read_csv('../output/HNSCC_all_functional_data.csv')\n",
    "single_agent_inhibs = _all[~_all.inhibitor.str.contains(';')].inhibitor.unique()\n",
    "comb_agent_inhibs = _all[_all.inhibitor.str.contains(';')].inhibitor.unique()\n",
    "print('number of combination agents', comb_agent_inhibs.shape[0])\n",
    "\n",
    "#print('\\n'.join(single_agent_inhibs))\n",
    "#print('\\n'.join(comb_agent_inhibs))"
   ]
  },
  {
   "cell_type": "markdown",
   "metadata": {},
   "source": [
    "# load `drug_name_rework.xlsx` \n",
    "\n",
    "this is where we'll map the old names to the new names. "
   ]
  },
  {
   "cell_type": "code",
   "execution_count": 6,
   "metadata": {},
   "outputs": [
    {
     "data": {
      "text/html": [
       "<div>\n",
       "<style scoped>\n",
       "    .dataframe tbody tr th:only-of-type {\n",
       "        vertical-align: middle;\n",
       "    }\n",
       "\n",
       "    .dataframe tbody tr th {\n",
       "        vertical-align: top;\n",
       "    }\n",
       "\n",
       "    .dataframe thead th {\n",
       "        text-align: right;\n",
       "    }\n",
       "</style>\n",
       "<table border=\"1\" class=\"dataframe\">\n",
       "  <thead>\n",
       "    <tr style=\"text-align: right;\">\n",
       "      <th></th>\n",
       "      <th>previous_name</th>\n",
       "      <th>correct_name</th>\n",
       "      <th>correct_name_CAPS</th>\n",
       "      <th>single_agent_1</th>\n",
       "      <th>single_agent_2</th>\n",
       "      <th>aliases</th>\n",
       "      <th>Notes</th>\n",
       "      <th>primary_target</th>\n",
       "      <th>target_ref</th>\n",
       "    </tr>\n",
       "  </thead>\n",
       "  <tbody>\n",
       "    <tr>\n",
       "      <th>0</th>\n",
       "      <td>Lucitanib</td>\n",
       "      <td>Lucitanib</td>\n",
       "      <td>LUCITANIB</td>\n",
       "      <td>NaN</td>\n",
       "      <td>NaN</td>\n",
       "      <td>NaN</td>\n",
       "      <td>NaN</td>\n",
       "      <td>NaN</td>\n",
       "      <td>NaN</td>\n",
       "    </tr>\n",
       "    <tr>\n",
       "      <th>1</th>\n",
       "      <td>Resveratrol</td>\n",
       "      <td>Resveratrol</td>\n",
       "      <td>RESVERATROL</td>\n",
       "      <td>NaN</td>\n",
       "      <td>NaN</td>\n",
       "      <td>NaN</td>\n",
       "      <td>NaN</td>\n",
       "      <td>NaN</td>\n",
       "      <td>NaN</td>\n",
       "    </tr>\n",
       "    <tr>\n",
       "      <th>2</th>\n",
       "      <td>Pelitinib (EKB-569)</td>\n",
       "      <td>Pelitinib</td>\n",
       "      <td>PELITINIB</td>\n",
       "      <td>NaN</td>\n",
       "      <td>NaN</td>\n",
       "      <td>EKB-569</td>\n",
       "      <td>NaN</td>\n",
       "      <td>NaN</td>\n",
       "      <td>NaN</td>\n",
       "    </tr>\n",
       "    <tr>\n",
       "      <th>3</th>\n",
       "      <td>Bicalutamide</td>\n",
       "      <td>Bicalutamide</td>\n",
       "      <td>BICALUTAMIDE</td>\n",
       "      <td>NaN</td>\n",
       "      <td>NaN</td>\n",
       "      <td>NaN</td>\n",
       "      <td>NaN</td>\n",
       "      <td>NaN</td>\n",
       "      <td>NaN</td>\n",
       "    </tr>\n",
       "    <tr>\n",
       "      <th>4</th>\n",
       "      <td>Methotrexate</td>\n",
       "      <td>Methotrexate</td>\n",
       "      <td>METHOTREXATE</td>\n",
       "      <td>NaN</td>\n",
       "      <td>NaN</td>\n",
       "      <td>NaN</td>\n",
       "      <td>NaN</td>\n",
       "      <td>NaN</td>\n",
       "      <td>NaN</td>\n",
       "    </tr>\n",
       "  </tbody>\n",
       "</table>\n",
       "</div>"
      ],
      "text/plain": [
       "         previous_name  correct_name correct_name_CAPS single_agent_1  \\\n",
       "0            Lucitanib     Lucitanib         LUCITANIB            NaN   \n",
       "1          Resveratrol   Resveratrol       RESVERATROL            NaN   \n",
       "2  Pelitinib (EKB-569)     Pelitinib         PELITINIB            NaN   \n",
       "3         Bicalutamide  Bicalutamide      BICALUTAMIDE            NaN   \n",
       "4         Methotrexate  Methotrexate      METHOTREXATE            NaN   \n",
       "\n",
       "  single_agent_2  aliases Notes  primary_target  target_ref  \n",
       "0            NaN      NaN   NaN             NaN         NaN  \n",
       "1            NaN      NaN   NaN             NaN         NaN  \n",
       "2            NaN  EKB-569   NaN             NaN         NaN  \n",
       "3            NaN      NaN   NaN             NaN         NaN  \n",
       "4            NaN      NaN   NaN             NaN         NaN  "
      ]
     },
     "execution_count": 6,
     "metadata": {},
     "output_type": "execute_result"
    }
   ],
   "source": [
    "rework = pd.read_excel('../drug_name_rework.xlsx')\n",
    "rework.head()"
   ]
  },
  {
   "cell_type": "code",
   "execution_count": 7,
   "metadata": {},
   "outputs": [],
   "source": [
    "rename_dict = {x.previous_name:x.correct_name_CAPS for i,x in rework.iterrows()}"
   ]
  },
  {
   "cell_type": "markdown",
   "metadata": {},
   "source": [
    "## check if the names are right"
   ]
  },
  {
   "cell_type": "code",
   "execution_count": 8,
   "metadata": {},
   "outputs": [
    {
     "name": "stdout",
     "output_type": "stream",
     "text": [
      "total number of inhibitors:\t 269\n",
      "number of combinations: \t 131\n",
      "number of single agents:\t 138\n",
      "number of missing in `correct_name_CAPS`: 0\n"
     ]
    }
   ],
   "source": [
    "print('total number of inhibitors:\\t', rework.shape[0])\n",
    "print('number of combinations: \\t', rework.correct_name.str.contains(';').sum())\n",
    "print('number of single agents:\\t', (~rework.correct_name.str.contains(';')).sum())\n",
    "print('number of missing in `correct_name_CAPS`:', rework.correct_name_CAPS.isna().sum())"
   ]
  },
  {
   "cell_type": "markdown",
   "metadata": {},
   "source": [
    "# Load platemap in "
   ]
  },
  {
   "cell_type": "code",
   "execution_count": 9,
   "metadata": {},
   "outputs": [
    {
     "name": "stdout",
     "output_type": "stream",
     "text": [
      "plate maps available:\n",
      "HNSCC_plate_map-version_id=OHSU_HNSCC_derm001.xlsx\n",
      "HNSCC_plate_map-version_id=OHSU_HNSCC_derm002.xlsx\n",
      "HNSCC_plate_map-version_id=OHSU_HNSCC_derm003.xlsx\n",
      "HNSCC_plate_map-version_id=OHSU_HNSCC_derm004.xlsx\n",
      "\n",
      "../plate_maps-backup/HNSCC_plate_map-version_id=OHSU_HNSCC_derm001.xlsx\n",
      "../plate_maps/HNSCC_plate_map-version_id=OHSU_HNSCC_derm001.xlsx\n"
     ]
    }
   ],
   "source": [
    "plate_map_dir = '../plate_maps-backup/'\n",
    "plate_map_out = '../plate_maps/'\n",
    "\n",
    "platemap_names = os.listdir(plate_map_dir)\n",
    "print('plate maps available:')\n",
    "print('\\n'.join(platemap_names))\n",
    "print()\n",
    "\n",
    "platemap_choice = plate_map_dir + platemap_names[0]\n",
    "platemap_out = plate_map_out + platemap_names[0]\n",
    "\n",
    "print(platemap_choice)\n",
    "print(platemap_out)"
   ]
  },
  {
   "cell_type": "code",
   "execution_count": 10,
   "metadata": {},
   "outputs": [],
   "source": [
    "def rename_sheets(path_in, path_out, rename_dict): \n",
    "    \n",
    "    book = load_workbook(path_in, data_only=True)         # load excel document\n",
    "    sheets = np.array(book.sheetnames)\n",
    "    sheets_to_rename = sheets[((np.arange(len(sheets))%2 == 0) * (np.arange(len(sheets)) > 0))]\n",
    "    print('sheets selected for renaming...', end='\\n\\t')\n",
    "    print(sheets_to_rename)\n",
    "\n",
    "    writer = pd.ExcelWriter(path_out, engine='openpyxl') \n",
    "    writer.book = book\n",
    "\n",
    "    ## ExcelWriter for some reason uses writer.sheets to access the sheet.\n",
    "    ## If you leave it empty it will not know that sheet Main is already there\n",
    "    ## and will create a new sheet.\n",
    "\n",
    "    writer.sheets = dict((ws.title, ws) for ws in book.worksheets)\n",
    "\n",
    "    for _sheet in sheets_to_rename: \n",
    "    \n",
    "        df = pd.read_excel(path_in, sheet_name=_sheet, header=None, index_col=None)             # load data in \n",
    "        \n",
    "        df = df.applymap(lambda x: x.strip() if isinstance(x, str) else x)      # make sure no names have trailing spaces\n",
    "        \n",
    "        df = df.replace(rename_dict, value=None)\n",
    "        \n",
    "        df.to_excel(writer, _sheet, header=False, index=False)              # save back to excel \n",
    "        \n",
    "    writer.save()\n",
    "\n",
    "    #print('finished!')\n",
    "\n",
    "# test    \n",
    "#rename_sheets(platemap_choice, platemap_out, rename_dict)"
   ]
  },
  {
   "cell_type": "code",
   "execution_count": 13,
   "metadata": {},
   "outputs": [
    {
     "name": "stdout",
     "output_type": "stream",
     "text": [
      "renaming:  HNSCC_plate_map-version_id=OHSU_HNSCC_derm001.xlsx\n",
      "sheets selected for renaming...\n",
      "\t['plate1-inhibitors' 'plate2-inhibitors' 'plate3-inhibitors']\n",
      "------------------------------------------------------------\n",
      "renaming:  HNSCC_plate_map-version_id=OHSU_HNSCC_derm002.xlsx\n",
      "sheets selected for renaming...\n",
      "\t['plate1-inhibitors' 'plate2-inhibitors' 'plate3-inhibitors'\n",
      " 'plate4-inhibitors' 'plate5-inhibitors' 'plate6-inhibitors']\n",
      "------------------------------------------------------------\n",
      "renaming:  HNSCC_plate_map-version_id=OHSU_HNSCC_derm003.xlsx\n",
      "sheets selected for renaming...\n",
      "\t['plate1-inhibitors' 'plate2-inhibitors' 'plate3-inhibitors'\n",
      " 'plate4-inhibitors' 'plate5-inhibitors' 'plate6-inhibitors']\n",
      "------------------------------------------------------------\n",
      "renaming:  HNSCC_plate_map-version_id=OHSU_HNSCC_derm004.xlsx\n",
      "sheets selected for renaming...\n",
      "\t['GOAT Plate' 'WOAT Plate' 'Wombo Plate' 'JAK2']\n",
      "------------------------------------------------------------\n"
     ]
    }
   ],
   "source": [
    "for i, pm in enumerate(platemap_names): \n",
    "    print('renaming: ', pm)\n",
    "    platemap_choice = plate_map_dir + platemap_names[i]\n",
    "    platemap_out = plate_map_out + platemap_names[i]\n",
    "    rename_sheets(platemap_choice, platemap_out, rename_dict)\n",
    "    print('------------------------------------------------------------')"
   ]
  },
  {
   "cell_type": "code",
   "execution_count": null,
   "metadata": {},
   "outputs": [],
   "source": [
    "#? Really odd behavior with excel: \n",
    "#! This only started occuring AFTER I implemented the plate_map renaming script. Now, when I read in the values (seems to be just for conc sheets)\n",
    "#! The formula cells are read in as NA, by changing: , na_values = None, keep_default_na = False , we can prevent this for cells, however we \n",
    "#! still have to rename the header, for some reason it doesn't get handled the same... \n",
    "\n",
    "#! SOLVED: The openpyxl does not evaluate formulas, so when the renaming script saves the new excel plate maps, it has unevaluated equations. \n",
    "#! to fix this issue, after running the renaming script, you have to open each excel file, go to each tab (should autocalculate) and THEN run this. \n",
    "#! If you don't do this, it will result in a ton of NA values. "
   ]
  },
  {
   "cell_type": "code",
   "execution_count": null,
   "metadata": {},
   "outputs": [],
   "source": []
  },
  {
   "cell_type": "code",
   "execution_count": null,
   "metadata": {},
   "outputs": [],
   "source": []
  },
  {
   "cell_type": "code",
   "execution_count": null,
   "metadata": {},
   "outputs": [],
   "source": []
  }
 ],
 "metadata": {
  "kernelspec": {
   "display_name": "Python 3",
   "language": "python",
   "name": "python3"
  },
  "language_info": {
   "codemirror_mode": {
    "name": "ipython",
    "version": 3
   },
   "file_extension": ".py",
   "mimetype": "text/x-python",
   "name": "python",
   "nbconvert_exporter": "python",
   "pygments_lexer": "ipython3",
   "version": "3.6.5"
  },
  "toc": {
   "base_numbering": 1,
   "nav_menu": {},
   "number_sections": true,
   "sideBar": true,
   "skip_h1_title": false,
   "title_cell": "Table of Contents",
   "title_sidebar": "Contents",
   "toc_cell": false,
   "toc_position": {},
   "toc_section_display": true,
   "toc_window_display": true
  }
 },
 "nbformat": 4,
 "nbformat_minor": 2
}
