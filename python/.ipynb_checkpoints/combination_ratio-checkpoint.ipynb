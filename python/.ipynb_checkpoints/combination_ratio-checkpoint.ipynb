{
 "cells": [
  {
   "cell_type": "code",
   "execution_count": 1,
   "metadata": {},
   "outputs": [],
   "source": [
    "import numpy as np \n",
    "import pandas as pd \n",
    "from matplotlib import pyplot as plt \n",
    "\n"
   ]
  },
  {
   "cell_type": "markdown",
   "metadata": {},
   "source": [
    "# Combination Ratio \n",
    "\n",
    " > \"The efficacy of each combination relative to its respective single agents was quantified with combination ratio (CR) values, defined as the IC50 or area under the fitted dose–response curve for the combination divided by the lowest IC50 or\n",
    "area under the curve (AUC) value for either single agent. By this metric, a CR value of less than 1 indicates the drug combination is more effective than either single agent. We derived these CR values because of known limitations of applying conventional synergy calculations when one or more of the single agents is completely ineffective on particular samples (25).\" [1]\n",
    "\n",
    "1. Kurtz SE, Eide CA, Kaempf A, Khanna V, Savage SL, Rofelty A, et al. Molecularly targeted drug combinations demonstrate selective effectiveness for myeloid- and lymphoid-derived hematologic malignancies. Proc Natl Acad Sci U S A. 2017 Sep 5;114(36):E7554–63. \n",
    "\n",
    "25. Chou TC (2006) Theoretical basis, experimental design, and computerized simulation of synergism and antagonism in drug combination studies. Pharmacol Rev 58: 621–681.\n",
    "\n",
    "--- \n",
    "\n",
    "We will interpret this as the following: \n",
    "\n",
    "$$  CR = \\frac{AUC_{combination}}{min(AUC_{drug1}, AUC_{drug2})} $$ "
   ]
  },
  {
   "cell_type": "markdown",
   "metadata": {},
   "source": [
    "# Load data "
   ]
  },
  {
   "cell_type": "code",
   "execution_count": 27,
   "metadata": {
    "scrolled": false
   },
   "outputs": [
    {
     "name": "stdout",
     "output_type": "stream",
     "text": [
      "JQ1;BEZ235\n",
      "Lucitanib\n",
      "Resveratrol\n",
      "Pelitinib (EKB-569)\n",
      "Bicalutamide\n",
      "Methotrexate\n",
      "Midostaurin (PKC-412)\n",
      "Tamatinib/R406\n",
      "Bosutinib\n",
      "PI-103\n",
      "Glycyrrhizin\n",
      "Luteolin (direct interaction)\n",
      "GSK-690693\n",
      "Ibrutinib\n",
      "Dasatinib;Gefitinib\n",
      "Sorafenib\n",
      "Rosmarinic acid\n",
      "Rapamycin\n",
      "Vismodegib\n",
      "PP242\n",
      "Alectinib\n",
      "MK-2206\n",
      "Ruxolitinib;Gefitinib\n",
      "Flavopiridol\n",
      "Indirubin\n",
      "PF-533228\n",
      "Licochalcone A (from licorice)\n",
      "17-AAG (Tanespimycin)\n",
      "Emodin\n",
      "Baicalin\n",
      "NVP-TAE-684\n",
      "Panobinostat\n",
      "PP242;Gefitinib\n",
      "Fulvestrant\n",
      "SCH-772984\n",
      "MLN120B\n",
      "Ixabepilone\n",
      "Canertinib (CI-1033)\n",
      "Selumetinib (AZD6244)\n",
      "I-BET 762;Gefitinib\n",
      "NF-kB (QNZ)\n",
      "Letrozole\n",
      "Coumarin\n",
      "Afatinib;Gefitinib\n",
      "Foretinib (XL-880)\n",
      "Elesclomol\n",
      "Vemurafenib\n",
      "I-BET 762;BEZ235\n",
      "Ponatinib\n",
      "Sunitinib (1mM)\n",
      "Curcumin\n",
      "PF-562271\n",
      "STO609\n",
      "Lenvatinib\n",
      "Entrectinib\n",
      "Ethyl Gallate\n",
      "GDC-0941\n",
      "Dovitinib\n",
      "BI-2536\n",
      "TP-0903\n",
      "Belinostat\n",
      "INK-128\n",
      "Trametinib;Gefitinib\n",
      "Bosutinib;Gefitinib\n",
      "Pazopanib\n",
      "AZD4547\n",
      "Pomalidomide\n",
      "Idelasib (GS-1101)\n",
      "(+)-Anwulignan (macelignan)\n",
      "Staurosporin\n",
      "Tozasertib (VX-680)\n",
      "Hesperidin\n",
      "Esculetin\n",
      "Selinexor\n",
      "Infigratinib/NVPBGJ398\n",
      "BMX-IN-1\n",
      "Dasatinib (1mM)\n",
      "Bortezomib (Velcade)\n",
      "Nilotinib\n",
      "Enzalutamide\n",
      "Caffeic acid (oral cancer research)\n",
      "JQ1;Gefitinib\n",
      "BMS-387032 (SNS-032)\n",
      "Axitinib\n",
      "Thalidomide\n",
      "Vandetanib\n",
      "Oleic acid\n",
      "A-674563\n",
      "Lapatinib\n",
      "Apocynin (vanillin)\n",
      "AT-7519\n",
      "Axitinib;Gefitinib\n",
      "Crizotinib;Gefitinib\n",
      "JQ1\n",
      "Andrographolide (structurally similar to quercetin)\n",
      "Cerdulatinib\n",
      "Romidepsin\n",
      "Gilteritinib\n",
      "Anastrazole\n",
      "JNJ-28312141\n",
      "Genistein\n",
      "Abscisic acid\n",
      "Alisertib (MLN-8237)\n",
      "Ruxolitinib\n",
      "TAK-659\n",
      "Lestaurtinib (CEP-701)\n",
      "Vorinostat\n",
      "Lenalidomide\n",
      "NVP-ADW742\n",
      "Piceatannol (resveratrol metabolite, maybe more potent)\n",
      "Echinatin\n",
      "YM-155\n",
      "Herniarin (derivative of coumarin)\n",
      "Stevioside\n",
      "Pemetrexed\n",
      "Taselisib (GDC-0032)\n",
      "GSK-1838705A\n",
      "Ceritinib;Gefitinib\n",
      "Imatinib\n",
      "Saracatinib\n",
      "I-BET 762\n",
      "Neratinib (HKI-272)\n",
      "Ginsenoside Rb2\n",
      "Crizotinib\n",
      "MGCD-265\n",
      "Erlotinib\n",
      "Vandetanib;GDC-0941\n",
      "Lapatinib;Ditosylate;Axitinib\n",
      "Sunitinib;Malate;Axitinib\n",
      "Gefitinib;Sorafenib;Tosylate\n",
      "Lapatinib;Ditosylate;Belinostat\n",
      "Erlotinib;Hydrochloride;BEZ235\n",
      "Sunitinib;Malate;Romidepsin\n",
      "Lapatinib;Ditosylate;GDC-0941\n",
      "Gefitinib;Vorinostat\n",
      "Sunitinib;Malate;Belinostat\n",
      "Erlotinib;Hydrochloride;Axitinib\n",
      "VOLASERTIB x\n",
      "Vandetanib;Imatinib;Mesylate\n",
      "Canertinib (CI-1033);PI-103\n",
      "Lapatinib;Ditosylate;Vorinostat\n",
      "Gefitinib;Fulvestrant\n",
      "Vandetanib;PI-103\n",
      "Sunitinib;Malate;Pazopanib;Hydrochloride\n",
      "Erlotinib;Hydrochloride;Idelasib (GS-1101)\n",
      "Gefitinib;PI-103\n",
      "AZD2014 x\n",
      "Vandetanib;Belinostat\n",
      "Sunitinib;Erlotinib;Hydrochloride;Malate\n",
      "MLN7243 x (1mM)\n",
      "Vandetanib;Afatinib;Dimaleate\n",
      "Gefitinib;Pemetrexed;Disodium\n",
      "Lapatinib;Ditosylate;Fulvestrant\n",
      "Sunitinib;Malate;Vorinostat\n",
      "Sunitinib;Malate;Bosutinib\n",
      "Erlotinib;Hydrochloride;Crizotinib\n",
      "Lapatinib;Ditosylate;Pemetrexed Disodium\n",
      "Erlotinib;Hydrochloride;Romidepsin\n",
      "Vandetanib;Idelasib (GS-1101)\n",
      "Lapatinib;Ditosylate;Idelasib (GS-1101)\n",
      "Erlotinib;Hydrochloride;Bosutinib\n",
      "Erlotinib;Hydrochloride;Belinostat\n",
      "Vandetanib;Ruxolitinib;Phosphate\n",
      "Dasatinib;Lapatinib;Ditosylate\n",
      "Gefitinib;Imatinib;Mesylate\n",
      "Sunitinib;Malate;Ruxolitinib;Phosphate\n",
      "Erlotinib;Hydrochloride;Imatinib;Mesylate\n",
      "Gefitinib;Pazopanib;Hydrochloride\n",
      "Sunitinib;Malate;Afatinib;Dimaleate\n",
      "Gefitinib;Vandetanib\n",
      "Lapatinib;Ditosylate;Romidepsin\n",
      "Vandetanib;Axitinib\n",
      "Erlotinib;Hydrochloride;Vorinostat\n",
      "Sunitinib;Malate;Dasatinib\n",
      "Vandetanib;Fulvestrant\n",
      "Gefitinib;GDC-0941\n",
      "Sunitinib;Malate;Pemetrexed Disodium\n",
      "Lapatinib;Ditosylate;Imatinib;Mesylate\n",
      "Vandetanib;Taselisib (GDC-0032)\n",
      "Erlotinib;Hydrochloride;Pemetrexed Disodium\n",
      "Vandetanib;BEZ235\n",
      "Gefitinib;Belinostat\n",
      "Gefitinib;Romidepsin\n",
      "APTO-253 x\n",
      "Erlotinib;Hydrochloride;Panobinostat\n",
      "Sunitinib;Malate;Fulvestrant\n",
      "Sunitinib;Lapatinib;Ditosylate;Malate\n",
      "Erlotinib;Hydrochloride;Taselisib (GDC-0032)\n",
      "Lapatinib;Ditosylate;Afatinib;Dimaleate\n",
      "Lapatinib;Ditosylate;BEZ235\n",
      "Erlotinib;Hydrochloride;Ponatinib;Hydrochloride\n",
      "Gefitinib;Panobinostat\n",
      "Erlotinib;Hydrochloride;Fulvestrant\n",
      "Lapatinib;Ditosylate;Ruxolitinib;Phosphate\n",
      "Gefitinib;Ponatinib;Hydrochloride\n",
      "Lapatinib;Ditosylate;Ponatinib;Hydrochloride\n",
      "Vandetanib;Ponatinib;Hydrochloride\n",
      "Sunitinib;Malate;Ponatinib;Hydrochloride\n",
      "Gefitinib;Taselisib (GDC-0032)\n",
      "Erlotinib;Hydrochloride;Nilotinib\n",
      "Vandetanib;Pemetrexed Disodium\n",
      "Gefitinib;Erlotinib;Hydrochloride\n",
      "Erlotinib;Hydrochloride;Ruxolitinib;Phosphate\n",
      "Vandetanib;Vorinostat\n",
      "Sunitinib;Gefitinib;Malate\n",
      "Lapatinib;Ditosylate;Taselisib (GDC-0032)\n",
      "Gefitinib;Nilotinib\n",
      "Vandetanib;Erlotinib;Hydrochloride\n",
      "Sunitinib;Malate;Imatinib;Mesylate\n",
      "Erlotinib;Hydrochloride;Afatinib;Dimaleate\n",
      "Lapatinib;Ditosylate;Pazopanib;Hydrochloride\n",
      "Vandetanib;Dasatinib\n",
      "Erlotinib;Hydrochloride;GDC-0941\n",
      "Gefitinib;Lapatinib;Ditosylate\n",
      "Lapatinib;Ditosylate;Bosutinib\n",
      "Dasatinib;Erlotinib;Hydrochloride\n",
      "IMR 1\n",
      "Sunitinib;Malate;Sorafenib;Tosylate\n",
      "Lapatinib;Ditosylate;PI-103\n",
      "Sorafenib;Erlotinib;Hydrochloride;Tosylate\n",
      "Gefitinib;Idelasib (GS-1101)\n",
      "Vandetanib (5mM)\n",
      "Erlotinib;Hydrochloride;Pazopanib;Hydrochloride\n",
      "Lapatinib;Ditosylate;Sorafenib;Tosylate\n",
      "BS-181-HCI x (4.54mM)\n",
      "Erlotinib;Hydrochloride;PI-103\n",
      "LY3039478\n",
      "Gefitinib;IMR 1\n",
      "Gefitinib;LY3039478\n",
      "Larotrectinib\n",
      "TAK-733\n",
      "Stauprimide\n",
      "SGX-523\n",
      "Yellow\n"
     ]
    }
   ],
   "source": [
    "data = pd.read_csv('../output/HNSCC_cleaned_data.csv')\n",
    "\n",
    "print( '\\n'.join( data.inhibitor.unique() ) )"
   ]
  },
  {
   "cell_type": "markdown",
   "metadata": {},
   "source": [
    "# Process one combination "
   ]
  },
  {
   "cell_type": "code",
   "execution_count": 46,
   "metadata": {},
   "outputs": [],
   "source": [
    "def get_combination_ratio(comb, lab_id, df, verbose=True): \n",
    "    '''\n",
    "    summ \n",
    "    \n",
    "    input\n",
    "        comb <str> should be in form: \"drug1;drug2\"; There should not be more than 2 drugs in combination. \n",
    "        data <dataframe> \n",
    "        \n",
    "    output \n",
    "        combination ratio <float> \n",
    "    '''\n",
    "    \n",
    "    data = df[df.lab_id == lab_id]\n",
    "    \n",
    "    assert comb.count(';') == 1, f'expected only 2 drugs, received {comb.count(\";\")}: \\n\\t {comb}'\n",
    "    \n",
    "    drug1, drug2 = comb.strip().split(';')\n",
    "    \n",
    "    if verbose: print('calculating CR for:', (drug1, drug2))\n",
    "        \n",
    "    comb_df = data[data.inhibitor == comb]\n",
    "    drug1_df = data[data.inhibitor == drug1]\n",
    "    drug2_df = data[data.inhibitor == drug2]\n",
    "    \n",
    "    #print(comb_df)\n",
    "    #print(drug1_df)\n",
    "    #print(drug2_df)\n",
    "    \n",
    "    assert comb_df.shape[0] == 1, f'combination data expected one entry, but got {comb_df.shape[0]}'\n",
    "    assert drug1_df.shape[0] == 1, f'{drug1} data expected one entry, but got {drug1_df.shape[0]}'\n",
    "    assert drug2_df.shape[0] == 1, f'{drug2} data expected one entry, but got {drug2_df.shape[0]}'\n",
    "    \n",
    "    comb_AUC = float( comb_df['AUC'].values[0] )\n",
    "    drug1_AUC = float( drug1_df['AUC'].values[0] )\n",
    "    drug2_AUC = float( drug2_df['AUC'].values[0] )\n",
    "    \n",
    "    CR = comb_AUC / min(drug1_AUC, drug2_AUC)\n",
    "    \n",
    "    return CR "
   ]
  },
  {
   "cell_type": "markdown",
   "metadata": {},
   "source": [
    "# Test example"
   ]
  },
  {
   "cell_type": "code",
   "execution_count": 48,
   "metadata": {},
   "outputs": [
    {
     "name": "stdout",
     "output_type": "stream",
     "text": [
      "calculating CR for: ('Vandetanib', 'GDC-0941')\n",
      "Vandetanib;GDC-0941 CR value: 1.1173498779392539\n"
     ]
    }
   ],
   "source": [
    "comb = \"Vandetanib;GDC-0941\"\n",
    "labid = 10004\n",
    "\n",
    "CR = get_combination_ratio(comb, labid, data)\n",
    "\n",
    "print(f'{comb} CR value: {CR}')"
   ]
  },
  {
   "cell_type": "markdown",
   "metadata": {},
   "source": [
    "# Try all "
   ]
  },
  {
   "cell_type": "code",
   "execution_count": 51,
   "metadata": {},
   "outputs": [
    {
     "name": "stdout",
     "output_type": "stream",
     "text": [
      "in progress... 95.00%\t\t\t\r"
     ]
    },
    {
     "data": {
      "text/html": [
       "<div>\n",
       "<style scoped>\n",
       "    .dataframe tbody tr th:only-of-type {\n",
       "        vertical-align: middle;\n",
       "    }\n",
       "\n",
       "    .dataframe tbody tr th {\n",
       "        vertical-align: top;\n",
       "    }\n",
       "\n",
       "    .dataframe thead th {\n",
       "        text-align: right;\n",
       "    }\n",
       "</style>\n",
       "<table border=\"1\" class=\"dataframe\">\n",
       "  <thead>\n",
       "    <tr style=\"text-align: right;\">\n",
       "      <th></th>\n",
       "      <th>lab_id</th>\n",
       "      <th>inhibitor</th>\n",
       "      <th>CR</th>\n",
       "    </tr>\n",
       "  </thead>\n",
       "  <tbody>\n",
       "    <tr>\n",
       "      <th>0</th>\n",
       "      <td>10004</td>\n",
       "      <td>Vandetanib;GDC-0941</td>\n",
       "      <td>1.117350</td>\n",
       "    </tr>\n",
       "    <tr>\n",
       "      <th>1</th>\n",
       "      <td>10004</td>\n",
       "      <td>Canertinib (CI-1033);PI-103</td>\n",
       "      <td>0.400734</td>\n",
       "    </tr>\n",
       "    <tr>\n",
       "      <th>2</th>\n",
       "      <td>10004</td>\n",
       "      <td>Vandetanib;PI-103</td>\n",
       "      <td>0.983893</td>\n",
       "    </tr>\n",
       "    <tr>\n",
       "      <th>3</th>\n",
       "      <td>10004</td>\n",
       "      <td>Vandetanib;Belinostat</td>\n",
       "      <td>0.704335</td>\n",
       "    </tr>\n",
       "    <tr>\n",
       "      <th>4</th>\n",
       "      <td>10004</td>\n",
       "      <td>Vandetanib;Idelasib (GS-1101)</td>\n",
       "      <td>0.729440</td>\n",
       "    </tr>\n",
       "  </tbody>\n",
       "</table>\n",
       "</div>"
      ],
      "text/plain": [
       "   lab_id                      inhibitor        CR\n",
       "0   10004            Vandetanib;GDC-0941  1.117350\n",
       "1   10004    Canertinib (CI-1033);PI-103  0.400734\n",
       "2   10004              Vandetanib;PI-103  0.983893\n",
       "3   10004          Vandetanib;Belinostat  0.704335\n",
       "4   10004  Vandetanib;Idelasib (GS-1101)  0.729440"
      ]
     },
     "execution_count": 51,
     "metadata": {},
     "output_type": "execute_result"
    }
   ],
   "source": [
    "combinations = data.inhibitor.str.contains(';')\n",
    "\n",
    "res = {'lab_id':[], 'inhibitor':[], 'CR':[]}\n",
    "\n",
    "npat = data.lab_id.unique().shape[0]\n",
    "failed_combinations = [] \n",
    "\n",
    "for i, labid in enumerate( data.lab_id.unique() ): \n",
    "    print(f'in progress... {i/npat * 100 :.2f}%', end='\\t\\t\\t\\r')\n",
    "    pat = data[data.lab_id == labid]\n",
    "    for comb in pat[pat.inhibitor.str.contains(';')].inhibitor.unique(): \n",
    "        try: \n",
    "            CR = get_combination_ratio(comb, labid, pat, verbose=False)\n",
    "            res['lab_id'].append(labid)\n",
    "            res['inhibitor'].append(comb)\n",
    "            res['CR'].append(CR)\n",
    "        except AssertionError: \n",
    "            failed_combinations.append(comb)\n",
    "        \n",
    "res = pd.DataFrame(res)\n",
    "res.head()"
   ]
  },
  {
   "cell_type": "markdown",
   "metadata": {},
   "source": [
    "# Distribution of Combination Ratio values "
   ]
  },
  {
   "cell_type": "code",
   "execution_count": 52,
   "metadata": {},
   "outputs": [
    {
     "data": {
      "image/png": "[encoded data removed]",
      "text/plain": [
       "<Figure size 432x288 with 1 Axes>"
      ]
     },
     "metadata": {},
     "output_type": "display_data"
    }
   ],
   "source": [
    "plt.figure()\n",
    "plt.hist(res.CR)\n",
    "plt.show()"
   ]
  },
  {
   "cell_type": "markdown",
   "metadata": {},
   "source": [
    "# Synergistic combinations \n",
    "\n",
    "We'll use less than `0.9` to denote synergy "
   ]
  },
  {
   "cell_type": "code",
   "execution_count": 67,
   "metadata": {},
   "outputs": [
    {
     "data": {
      "text/html": [
       "<div>\n",
       "<style scoped>\n",
       "    .dataframe tbody tr th:only-of-type {\n",
       "        vertical-align: middle;\n",
       "    }\n",
       "\n",
       "    .dataframe tbody tr th {\n",
       "        vertical-align: top;\n",
       "    }\n",
       "\n",
       "    .dataframe thead th {\n",
       "        text-align: right;\n",
       "    }\n",
       "</style>\n",
       "<table border=\"1\" class=\"dataframe\">\n",
       "  <thead>\n",
       "    <tr style=\"text-align: right;\">\n",
       "      <th></th>\n",
       "      <th>lab_id</th>\n",
       "      <th>inhibitor</th>\n",
       "      <th>CR</th>\n",
       "    </tr>\n",
       "  </thead>\n",
       "  <tbody>\n",
       "    <tr>\n",
       "      <th>1</th>\n",
       "      <td>10004</td>\n",
       "      <td>Canertinib (CI-1033);PI-103</td>\n",
       "      <td>0.400734</td>\n",
       "    </tr>\n",
       "    <tr>\n",
       "      <th>3</th>\n",
       "      <td>10004</td>\n",
       "      <td>Vandetanib;Belinostat</td>\n",
       "      <td>0.704335</td>\n",
       "    </tr>\n",
       "    <tr>\n",
       "      <th>4</th>\n",
       "      <td>10004</td>\n",
       "      <td>Vandetanib;Idelasib (GS-1101)</td>\n",
       "      <td>0.729440</td>\n",
       "    </tr>\n",
       "    <tr>\n",
       "      <th>7</th>\n",
       "      <td>10004</td>\n",
       "      <td>Vandetanib;Taselisib (GDC-0032)</td>\n",
       "      <td>0.752586</td>\n",
       "    </tr>\n",
       "    <tr>\n",
       "      <th>10</th>\n",
       "      <td>10021</td>\n",
       "      <td>Canertinib (CI-1033);PI-103</td>\n",
       "      <td>0.651554</td>\n",
       "    </tr>\n",
       "  </tbody>\n",
       "</table>\n",
       "</div>"
      ],
      "text/plain": [
       "    lab_id                        inhibitor        CR\n",
       "1    10004      Canertinib (CI-1033);PI-103  0.400734\n",
       "3    10004            Vandetanib;Belinostat  0.704335\n",
       "4    10004    Vandetanib;Idelasib (GS-1101)  0.729440\n",
       "7    10004  Vandetanib;Taselisib (GDC-0032)  0.752586\n",
       "10   10021      Canertinib (CI-1033);PI-103  0.651554"
      ]
     },
     "execution_count": 67,
     "metadata": {},
     "output_type": "execute_result"
    }
   ],
   "source": [
    "syn = res[res.CR <= 0.9]\n",
    "syn.head()"
   ]
  },
  {
   "cell_type": "code",
   "execution_count": 70,
   "metadata": {},
   "outputs": [
    {
     "data": {
      "image/png": "[encoded data removed]",
      "text/plain": [
       "<Figure size 504x504 with 1 Axes>"
      ]
     },
     "metadata": {},
     "output_type": "display_data"
    }
   ],
   "source": [
    "cnt = syn.groupby('inhibitor').count()['CR'].reset_index()\n",
    "\n",
    "f,ax = plt.subplots(1,1, figsize=(7,7))\n",
    "ax.bar(cnt.inhibitor, cnt.CR)\n",
    "ax.set_xticklabels(cnt.inhibitor, rotation=40, ha='right')\n",
    "plt.show()"
   ]
  },
  {
   "cell_type": "markdown",
   "metadata": {},
   "source": [
    "# Canertinib (CI-1033);PI-103\n",
    "\n",
    "Almost all patients were synergistic to this one. "
   ]
  },
  {
   "cell_type": "code",
   "execution_count": 80,
   "metadata": {},
   "outputs": [
    {
     "data": {
      "image/png": "[encoded data removed]",
      "text/plain": [
       "<Figure size 432x288 with 1 Axes>"
      ]
     },
     "metadata": {},
     "output_type": "display_data"
    }
   ],
   "source": [
    "can_pi = res[res.inhibitor == 'Canertinib (CI-1033);PI-103']\n",
    "\n",
    "plt.figure()\n",
    "plt.hist(can_pi.CR, bins=np.linspace(0,1,10))\n",
    "plt.show()"
   ]
  },
  {
   "cell_type": "markdown",
   "metadata": {},
   "source": [
    "# Vandetanib;Taselisib (GDC-0032)\n",
    "\n",
    "Just another example to examine"
   ]
  },
  {
   "cell_type": "code",
   "execution_count": 83,
   "metadata": {},
   "outputs": [
    {
     "data": {
      "image/png": "[encoded data removed]",
      "text/plain": [
       "<Figure size 432x288 with 1 Axes>"
      ]
     },
     "metadata": {},
     "output_type": "display_data"
    }
   ],
   "source": [
    "van_tas = res[res.inhibitor == 'Vandetanib;Taselisib (GDC-0032)']\n",
    "\n",
    "plt.figure()\n",
    "plt.hist(van_tas.CR, bins=np.linspace(0,1,20))\n",
    "plt.show()"
   ]
  },
  {
   "cell_type": "markdown",
   "metadata": {},
   "source": [
    "# Plot CR distributions"
   ]
  },
  {
   "cell_type": "code",
   "execution_count": null,
   "metadata": {},
   "outputs": [],
   "source": [
    "f,axes = plt.subplots(3,3, figsize=(8,8))\n",
    "\n",
    "for ax, comb in zip(axes.flat, res.combinations.inhibitor.unique()): \n",
    "    df = res[res.inhibitor == comb] \n",
    "    ax.hist(df.CR, bins=np.linspace(0,1,20))\n",
    "    ax.set_title(comb)\n",
    "    "
   ]
  },
  {
   "cell_type": "code",
   "execution_count": null,
   "metadata": {},
   "outputs": [],
   "source": []
  },
  {
   "cell_type": "code",
   "execution_count": null,
   "metadata": {},
   "outputs": [],
   "source": []
  }
 ],
 "metadata": {
  "kernelspec": {
   "display_name": "Python 3",
   "language": "python",
   "name": "python3"
  },
  "language_info": {
   "codemirror_mode": {
    "name": "ipython",
    "version": 3
   },
   "file_extension": ".py",
   "mimetype": "text/x-python",
   "name": "python",
   "nbconvert_exporter": "python",
   "pygments_lexer": "ipython3",
   "version": "3.6.5"
  },
  "toc": {
   "base_numbering": 1,
   "nav_menu": {},
   "number_sections": true,
   "sideBar": true,
   "skip_h1_title": false,
   "title_cell": "Table of Contents",
   "title_sidebar": "Contents",
   "toc_cell": false,
   "toc_position": {},
   "toc_section_display": true,
   "toc_window_display": false
  }
 },
 "nbformat": 4,
 "nbformat_minor": 2
}
