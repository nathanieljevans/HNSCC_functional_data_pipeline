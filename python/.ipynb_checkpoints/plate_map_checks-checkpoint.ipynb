{
 "cells": [
  {
   "cell_type": "code",
   "execution_count": 1,
   "metadata": {},
   "outputs": [],
   "source": [
    "from HNSCC_analysis_pipeline_lib import * \n",
    "\n",
    "import numpy as np\n",
    "import pandas as pd\n",
    "\n",
    "import os"
   ]
  },
  {
   "cell_type": "markdown",
   "metadata": {},
   "source": [
    "# How many inhibitors are on each panel? \n",
    "\n",
    "and where are we losing inhibitors?\n"
   ]
  },
  {
   "cell_type": "code",
   "execution_count": 2,
   "metadata": {},
   "outputs": [
    {
     "name": "stdout",
     "output_type": "stream",
     "text": [
      "HNSCC_plate_map-version_id=OHSU_HNSCC_derm001.xlsx\n",
      "HNSCC_plate_map-version_id=OHSU_HNSCC_derm002.xlsx\n",
      "HNSCC_plate_map-version_id=OHSU_HNSCC_derm003.xlsx\n",
      "HNSCC_plate_map-version_id=OHSU_HNSCC_derm004.xlsx\n"
     ]
    }
   ],
   "source": [
    "platemap_dir = '../plate_maps/'\n",
    "\n",
    "platemaps = os.listdir(platemap_dir) \n",
    "print('\\n'.join(platemaps))"
   ]
  },
  {
   "cell_type": "code",
   "execution_count": 3,
   "metadata": {},
   "outputs": [],
   "source": [
    "def plate_data_summary(df): \n",
    "    '''\n",
    "    '''\n",
    "    print('total number of nonzero rows:', df.shape[0])\n",
    "    print(f'compare to expected rows for: 3 plates={3*24*16}    |   4 plates={4*24*16}   | 6 plates={6*24*16}')\n",
    "    print('number of unique inhibitors:', df.inhibitor.unique().shape[0])\n",
    "    print('number of single agent inhibitors', df[~df.inhibitor.str.contains(';')].inhibitor.unique().shape[0])\n",
    "    print('number of combination agent inhibitors', df[df.inhibitor.str.contains(';')].inhibitor.unique().shape[0])\n",
    "    \n",
    "    data = df\n",
    "    combination_agents = data[data.inhibitor.str.contains(';')].inhibitor.unique()\n",
    "    single_agents = data[~data.inhibitor.str.contains(';')].inhibitor.unique()\n",
    "\n",
    "    missing_single_agents = set()\n",
    "    combinations_missing_single_agent = set()\n",
    "    i = 0\n",
    "    for comb in combination_agents: \n",
    "        drug1, drug2 = comb.strip().split(';')\n",
    "\n",
    "        if drug1 not in single_agents: \n",
    "            missing_single_agents.add(drug1)\n",
    "            combinations_missing_single_agent.add(comb)\n",
    "        elif drug2 not in single_agents: \n",
    "            missing_single_agents.add(drug2)\n",
    "            combinations_missing_single_agent.add(comb)\n",
    "        else: i+= 1\n",
    "\n",
    "    print('number of missing single agents:', len(missing_single_agents))\n",
    "    print('number of combinations with both single agents:', i)\n",
    "    print()\n",
    "    print('combinations with one or more missing single agent:')\n",
    "    print('\\n'.join(combinations_missing_single_agent))\n",
    "    print()\n",
    "    print('missing single agents:')\n",
    "    print('\\n'.join(missing_single_agents))"
   ]
  },
  {
   "cell_type": "markdown",
   "metadata": {},
   "source": [
    "# Platmap ID `001`\n",
    "\n",
    "HNSCC_plate_map-version_id=OHSU_HNSCC_derm001.xlsx"
   ]
  },
  {
   "cell_type": "code",
   "execution_count": 9,
   "metadata": {},
   "outputs": [
    {
     "name": "stdout",
     "output_type": "stream",
     "text": [
      "../plate_maps/HNSCC_plate_map-version_id=OHSU_HNSCC_derm001.xlsx\n",
      "plate version id is: OHSU_HNSCC_derm001\n",
      "There are 3 plates in this plate map\n",
      "total number of nonzero rows: 1152\n",
      "compare to expected rows for: 3 plates=1152    |   4 plates=1536   | 6 plates=2304\n",
      "number of unique inhibitors: 134\n",
      "number of single agent inhibitors 121\n",
      "number of combination agent inhibitors 13\n",
      "number of missing single agents: 1\n",
      "number of combinations with both single agents: 12\n",
      "\n",
      "combinations with one or more missing single agent:\n",
      "AFATINIB DIMALEATE;GEFITINIB\n",
      "\n",
      "missing single agents:\n",
      "AFATINIB DIMALEATE\n"
     ]
    }
   ],
   "source": [
    "pm001 = platemap_dir + platemaps[0]\n",
    "print(pm001)\n",
    "pm001_df = get_plate_map(pm001, verbose=True)\n",
    "plate_data_summary(pm001_df)"
   ]
  },
  {
   "cell_type": "code",
   "execution_count": null,
   "metadata": {},
   "outputs": [],
   "source": [
    "# Platmap ID `002`\n",
    "\n",
    "HNSCC_plate_map-version_id=OHSU_HNSCC_derm002.xlsx"
   ]
  },
  {
   "cell_type": "code",
   "execution_count": null,
   "metadata": {},
   "outputs": [],
   "source": [
    "pm002 = platemap_dir + platemaps[1]\n",
    "print(pm002)\n",
    "pm002_df = get_plate_map(pm002, verbose=True)\n",
    "plate_data_summary(pm002_df)"
   ]
  },
  {
   "cell_type": "markdown",
   "metadata": {},
   "source": [
    "# Platmap ID `003`\n",
    "\n",
    "HNSCC_plate_map-version_id=OHSU_HNSCC_derm003.xlsx"
   ]
  },
  {
   "cell_type": "code",
   "execution_count": 11,
   "metadata": {},
   "outputs": [
    {
     "name": "stdout",
     "output_type": "stream",
     "text": [
      "plate version id is: OHSU_HNSCC_derm003\n",
      "There are 6 plates in this plate map\n",
      "total number of nonzero rows: 2304\n",
      "compare to expected rows for: 3 plates=1152    |   4 plates=1536   | 6 plates=2304\n",
      "number of unique inhibitors: 242\n",
      "number of single agent inhibitors 134\n",
      "number of combination agent inhibitors 108\n",
      "number of missing single agents: 1\n",
      "number of combinations with both single agents: 103\n",
      "\n",
      "combinations with one or more missing single agent:\n",
      "AFATINIB DIMALEATE;GEFITINIB\n",
      "VANDETANIB;AFATINIB DIMALEATE\n",
      "ERLOTINIB HYDROCHLORIDE;AFATINIB DIMALEATE\n",
      "LAPATINIB DITOSYLATE;AFATINIB DIMALEATE\n",
      "SUNITINIB MALATE;AFATINIB DIMALEATE\n",
      "\n",
      "missing single agents:\n",
      "AFATINIB DIMALEATE\n"
     ]
    }
   ],
   "source": [
    "pm003 = platemap_dir + platemaps[2]\n",
    "pm003_df = get_plate_map(pm003, verbose=True)\n",
    "plate_data_summary(pm003_df)"
   ]
  },
  {
   "cell_type": "markdown",
   "metadata": {},
   "source": [
    "# Platmap ID `004`\n",
    "\n",
    "HNSCC_plate_map-version_id=OHSU_HNSCC_derm004.xlsx"
   ]
  },
  {
   "cell_type": "code",
   "execution_count": 12,
   "metadata": {},
   "outputs": [
    {
     "name": "stdout",
     "output_type": "stream",
     "text": [
      "../plate_maps/HNSCC_plate_map-version_id=OHSU_HNSCC_derm004.xlsx\n",
      "plate version id is: OHSU_HNSCC_derm004\n",
      "There are 4 plates in this plate map\n",
      "total number of nonzero rows: 1536\n",
      "compare to expected rows for: 3 plates=1152    |   4 plates=1536   | 6 plates=2304\n",
      "number of unique inhibitors: 50\n",
      "number of single agent inhibitors 27\n",
      "number of combination agent inhibitors 23\n",
      "number of missing single agents: 12\n",
      "number of combinations with both single agents: 0\n",
      "\n",
      "combinations with one or more missing single agent:\n",
      "MLN120B;Trametinib\n",
      "Thalidomide;Trametinib\n",
      "Stevioside;Trametinib\n",
      "Fulvestrant;Trametinib\n",
      "GDC-0032;Trametinib\n",
      "Lapatinib;Trametinib\n",
      "I-BET762;Trametinib\n",
      "Gefitinib;Trametinib\n",
      "AZD4547;Trametinib\n",
      "Hesperidin;Trametinib\n",
      "Fedratinib;Trametinib\n",
      "Axitinib;Trametinib\n",
      "Crizotinib;Trametinib\n",
      "BGB324;Trametinib\n",
      "Glesatinib;Trametinib\n",
      "Gilteritinib;Trametinib\n",
      "Nilotinib;Trametinib\n",
      "GSK-690693;Trametinib\n",
      "Ixabepolone;Trametinib\n",
      "AZ960;Trametinib\n",
      "Ruxolitinib;Trametinib\n",
      "SGX-523;Trametinib\n",
      "NVP-ADW742;Trametinib\n",
      "\n",
      "missing single agents:\n",
      "Nilotinib\n",
      "Gilteritinib\n",
      "Ruxolitinib\n",
      "Lapatinib\n",
      "Fulvestrant\n",
      "Trametinib\n",
      "Hesperidin\n",
      "Stevioside\n",
      "Thalidomide\n",
      "Crizotinib\n",
      "Axitinib\n",
      "Gefitinib\n"
     ]
    }
   ],
   "source": [
    "pm004 = platemap_dir + platemaps[3]\n",
    "print(pm004)\n",
    "pm004_df = get_plate_map(pm004, verbose=True)\n",
    "plate_data_summary(pm004_df)"
   ]
  },
  {
   "cell_type": "code",
   "execution_count": null,
   "metadata": {},
   "outputs": [],
   "source": []
  }
 ],
 "metadata": {
  "kernelspec": {
   "display_name": "Python 3",
   "language": "python",
   "name": "python3"
  },
  "language_info": {
   "codemirror_mode": {
    "name": "ipython",
    "version": 3
   },
   "file_extension": ".py",
   "mimetype": "text/x-python",
   "name": "python",
   "nbconvert_exporter": "python",
   "pygments_lexer": "ipython3",
   "version": "3.6.5"
  },
  "toc": {
   "base_numbering": 1,
   "nav_menu": {},
   "number_sections": true,
   "sideBar": true,
   "skip_h1_title": false,
   "title_cell": "Table of Contents",
   "title_sidebar": "Contents",
   "toc_cell": false,
   "toc_position": {},
   "toc_section_display": true,
   "toc_window_display": false
  }
 },
 "nbformat": 4,
 "nbformat_minor": 2
}
