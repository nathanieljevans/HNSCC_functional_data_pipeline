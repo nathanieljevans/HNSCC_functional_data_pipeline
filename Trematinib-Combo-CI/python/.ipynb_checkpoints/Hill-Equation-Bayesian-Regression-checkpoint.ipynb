{
 "cells": [
  {
   "cell_type": "code",
   "execution_count": 1,
   "metadata": {},
   "outputs": [
    {
     "name": "stdout",
     "output_type": "stream",
     "text": [
      "1.1.0\n"
     ]
    }
   ],
   "source": [
    "import scipy.special as sps\n",
    "import pyro \n",
    "import pyro.distributions as dist\n",
    "import torch\n",
    "from torch.distributions import constraints\n",
    "from pyro.infer import MCMC, NUTS\n",
    "from scipy.stats import norm\n",
    "from torch import nn\n",
    "from pyro.infer.autoguide import AutoDiagonalNormal\n",
    "from pyro.nn import PyroModule\n",
    "from pyro import optim\n",
    "from pyro.infer import SVI, Trace_ELBO\n",
    "from pyro.nn import PyroSample\n",
    "from pyro.infer import Predictive\n",
    "\n",
    "\n",
    "pyro.enable_validation(True)\n",
    "pyro.set_rng_seed(1)\n",
    "pyro.enable_validation(True)\n",
    "\n",
    "import os\n",
    "\n",
    "import pandas as pd \n",
    "import numpy as np\n",
    "from matplotlib import pyplot as plt\n",
    "from mpl_toolkits.mplot3d import Axes3D\n",
    "\n",
    "import statsmodels.api as sm\n",
    "import statsmodels\n",
    "\n",
    "#import HNSCC_analysis_pipeline_lib as lib\n",
    "\n",
    "import pickle as pkl\n",
    "import seaborn as sbn\n",
    "\n",
    "print(pyro.__version__)\n",
    "assert pyro.__version__.startswith('1.1.0')\n",
    "\n",
    "import time\n",
    "\n",
    "from __future__ import print_function\n",
    "from ipywidgets import interact, interactive, fixed, interact_manual\n",
    "import ipywidgets as widgets\n",
    "\n",
    "from scipy.stats import norm, gamma, poisson, beta \n",
    "\n",
    "%matplotlib inline"
   ]
  },
  {
   "cell_type": "markdown",
   "metadata": {},
   "source": [
    "# Hill-Langmuir Bayesian Regression \n",
    "\n",
    "Goals similar to: https://www.ncbi.nlm.nih.gov/pmc/articles/PMC3773943/pdf/nihms187302.pdf \n",
    "\n",
    "However, they use a different paramerization that does not include Emax \n",
    "\n",
    "# Bayesian Hill Model Regression \n",
    "\n",
    "The Hill model is defined as: \n",
    "\n",
    "$$ F(c, E_{max}, E_0, EC_{50}, H) = E_0 + \\frac{E_{max} - E_0}{1 + (\\frac{EC_{50}}{C})^H} $$\n",
    "\n",
    "Where concentration, $c$ is in uM, and is *not* in logspace. \n",
    "\n",
    "To quantify uncertainty in downstream modeling, and to allow placement of priors on the relevant variables, we will do this in a bayesian framework. \n",
    "\n",
    "# Building Intuition with the Hill Equation\n",
    "\n",
    "![](https://media.springernature.com/lw685/springer-static/image/art%3A10.1038%2Fsrep14701/MediaObjects/41598_2015_Article_BFsrep14701_Fig1_HTML.jpg?as=webp)\n",
    "\n",
    "1. Di Veroli GY, Fornari C, Goldlust I, Mills G, Koh SB, Bramhall JL, et al. An automated fitting procedure and software for dose-response curves with multiphasic features. Scientific Reports. 2015 Oct 1;5(1):1–11. \n"
   ]
  },
  {
   "cell_type": "code",
   "execution_count": 2,
   "metadata": {
    "code_folding": [],
    "scrolled": false
   },
   "outputs": [
    {
     "data": {
      "application/vnd.jupyter.widget-view+json": {
       "model_id": "47faefa1050c4ac2b7c95fec9b2bb603",
       "version_major": 2,
       "version_minor": 0
      },
      "text/plain": [
       "interactive(children=(FloatSlider(value=2.5, description='E0', max=3.0, step=0.5), FloatSlider(value=0.0, desc…"
      ]
     },
     "metadata": {},
     "output_type": "display_data"
    }
   ],
   "source": [
    "# https://ipywidgets.readthedocs.io/en/latest/examples/Using%20Interact.html\n",
    "def f(E0=2.5, Emax=0, log_EC50=-2, H=1):\n",
    "    \n",
    "    EC50 = 10**log_EC50\n",
    "    plt.figure(2, figsize=(10,5))\n",
    "    xx = np.logspace(-4, 1, 100)\n",
    "    yy = E0 + (Emax - E0)/(1+(EC50/xx)**H)\n",
    "    \n",
    "    plt.plot(np.log10(xx),yy, 'r-')\n",
    "    plt.ylim(-0.2, 3)\n",
    "    plt.xlabel('log10 [Concentration (uM)] ')\n",
    "    plt.ylabel('cell response')\n",
    "    plt.show()\n",
    "\n",
    "interactive_plot = interactive(f, E0=(0,3,0.5), Emax=(0.,1.,0.05), log_EC50=(-5,2,0.1), H=(1,5,1))\n",
    "output = interactive_plot.children[-1]\n",
    "output.layout.height = '350px'\n",
    "interactive_plot"
   ]
  },
  {
   "cell_type": "markdown",
   "metadata": {},
   "source": [
    "# Define Model + Guide "
   ]
  },
  {
   "cell_type": "code",
   "execution_count": 3,
   "metadata": {},
   "outputs": [],
   "source": [
    "class plotter: \n",
    "    def __init__(self, params, figsize=(20,10), subplots = (2,7)): \n",
    "        '''\n",
    "        '''\n",
    "        assert len(params) <= subplots[0]*subplots[1], 'wrong number of subplots for given params to report'\n",
    "        self.fig, self.axes = plt.subplots(*subplots,figsize=figsize, sharex='col', sharey='row')\n",
    "        self.vals = {p:[] for p in params}\n",
    "        self.params = params\n",
    "        \n",
    "    def record(self):\n",
    "        '''\n",
    "        '''\n",
    "        for p in self.params: \n",
    "            self.vals[p].append(pyro.param(p).item())\n",
    "    \n",
    "    def plot_all(self): \n",
    "        '''\n",
    "        '''\n",
    "        for p, ax in zip(self.params, self.axes.flat): \n",
    "            ax.plot(self.vals[p], 'b-')\n",
    "            ax.set_title(p, fontsize=25)\n",
    "            ax.set_xlabel('step', fontsize=20)\n",
    "            ax.set_ylabel('param value', fontsize=20)\n",
    "            \n",
    "        plt.subplots_adjust(left=None, bottom=None, right=None, top=None, wspace=None, hspace=0.35)\n",
    "        plt.show()\n",
    "        \n",
    "def model(X, Y=None):\n",
    "    '''\n",
    "    \n",
    "    '''\n",
    "    E0 = pyro.sample('E0', dist.Normal(1., E0_std))\n",
    "\n",
    "    Emax = pyro.sample('Emax', dist.Beta(a_emax, b_emax))\n",
    "    \n",
    "    H = pyro.sample('H', dist.Gamma(alpha_H, beta_H))\n",
    "    \n",
    "    EC50 = 10**pyro.sample('log_EC50', dist.Normal(mu_ec50, std_ec50))\n",
    "\n",
    "    obs_sigma = pyro.sample(\"obs_sigma\", dist.Gamma(a_obs, b_obs))\n",
    "    \n",
    "    obs_mean = E0 + (Emax - E0)/(1+(EC50/X)**H)\n",
    "\n",
    "    with pyro.plate(\"data\", X.shape[0]):\n",
    "        obs = pyro.sample(\"obs\", dist.Normal(obs_mean.squeeze(-1), obs_sigma), obs=Y)\n",
    "        \n",
    "    return obs_mean\n",
    "\n",
    "def guide(X, Y=None):\n",
    "    \n",
    "    _E0_mean = pyro.param('E0_mean', torch.tensor(0.))\n",
    "    _E0_std = pyro.param('E0_std', torch.tensor(E0_std), constraint=constraints.positive)\n",
    "    E0 = pyro.sample('E0', dist.Normal(_E0_mean, _E0_std))\n",
    "    \n",
    "    _a_emax = pyro.param('_a_emax', torch.tensor(a_emax), constraint=constraints.positive)\n",
    "    _b_emax = pyro.param('_b_emax', torch.tensor(b_emax), constraint=constraints.positive)\n",
    "    Emax = pyro.sample('Emax', dist.Beta(_a_emax, _b_emax))\n",
    "    \n",
    "    _alpha_H = pyro.param('_alpha_H', torch.tensor(alpha_H), constraint=constraints.positive)\n",
    "    _beta_H = pyro.param('_beta_H', torch.tensor(beta_H), constraint=constraints.positive)\n",
    "    H = pyro.sample('H', dist.Gamma(_alpha_H, _beta_H))\n",
    "\n",
    "    _mu_ec50 = pyro.param('_mu_ec50', torch.tensor(mu_ec50))\n",
    "    _std_ec50 = pyro.param('_std_ec50', torch.tensor(std_ec50), constraint=constraints.positive)\n",
    "    EC50 = pyro.sample('log_EC50', dist.Normal(_mu_ec50, _std_ec50))\n",
    "    \n",
    "    _a_obs = pyro.param('_a_obs', torch.tensor(a_obs), constraint=constraints.positive)\n",
    "    _b_obs = pyro.param('_b_obs', torch.tensor(b_obs), constraint=constraints.positive)\n",
    "    obs_sigma = pyro.sample(\"obs_sigma\", dist.Gamma(_a_obs, _b_obs))\n",
    "    \n",
    "    obs_mean = E0 + (Emax - E0)/(1+(EC50/X)**H)\n",
    "    \n",
    "    return obs_mean"
   ]
  },
  {
   "cell_type": "markdown",
   "metadata": {},
   "source": [
    "## choosing priors \n",
    "\n",
    "\n",
    "\n",
    "### $E_0$\n",
    "The upper bound or maximum value of our function, $E_0$ should be centered at 1, although it's possible to be a little above or below that, we'll model this with a Normal distribution and a fairly tight variance around 1. \n",
    "\n",
    "$$ E_0 \\propto N(1, \\sigma_{E_0}) $$ \n",
    "\n",
    "### $E_{max}$ \n",
    "$E_{max}$ is the lower bound, or minimum value of our function, and is expected to be at 0, however, for some inhibitors it's significantly above this. \n",
    "\n",
    "$$ E_{max} \\propto Beta(a_{E_{max}}, b_{E_{max}}) $$ \n",
    "\n",
    "$$ e[E_{max}] = \\frac{a}{a+b} $$\n",
    "\n",
    "### H \n",
    "\n",
    "Hill coefficient, $H$ should be a positive integer, however, we're going to approximate this as gamma since a poisson is not flexible enough to characterize this properly. \n",
    "\n",
    "$$ H \\propto gamma(\\alpha_{H}, \\beta_{H}) $$\n",
    "\n",
    "$$ Mean = E[gamma] = \\frac{ \\alpha_{H} }{\\beta_{H}} $$ \n",
    "\n",
    "### $EC_{50}$ \n",
    "\n",
    "EC50 was actually a little tough, we could imagine encoding IC50 as a gamma distribution in concentration space, however, this results in poor behavior when used in logspace. Therefore, it actually works much better to encode this as a Normal distribution in logspace. \n",
    "\n",
    "$$ log10(EC50) \\propto Normal(\\mu_{EC50}, \\sigma_{EC50}) $$ \n",
    "\n",
    "### cell viability ($Y$) \n",
    "\n",
    "We'll assume this is a normal distribution, centered around the hill function with standard deviation $\\sigma_{obs}$. \n",
    "\n",
    "$$ \\mu_{obs} = E_0 + \\frac{E_{max} - E_0}{1 + (\\frac{EC_{50}}{C})^H} $$\n",
    "\n",
    "$$ Y \\propto N(\\mu_{obs}, \\sigma_{obs}) $$  "
   ]
  },
  {
   "cell_type": "markdown",
   "metadata": {},
   "source": [
    "# Building Prior Intuition \n",
    "\n",
    "## E0 Prior "
   ]
  },
  {
   "cell_type": "code",
   "execution_count": 30,
   "metadata": {},
   "outputs": [
    {
     "data": {
      "application/vnd.jupyter.widget-view+json": {
       "model_id": "8d7f91518ae645dc892de3e7c15adb1f",
       "version_major": 2,
       "version_minor": 0
      },
      "text/plain": [
       "interactive(children=(FloatSlider(value=2.0, description='E0_std', max=4.0, min=0.1), Output(layout=Layout(hei…"
      ]
     },
     "metadata": {},
     "output_type": "display_data"
    }
   ],
   "source": [
    "def f(E0_std):\n",
    "    plt.figure(2)\n",
    "    xx = np.linspace(-2, 4, 50)\n",
    "    \n",
    "    rv = norm(1, E0_std)\n",
    "    yy = rv.pdf(xx)\n",
    "    \n",
    "    plt.ylim(0,1)\n",
    "    plt.title('E0 parameter')\n",
    "    plt.xlabel('E0')\n",
    "    plt.ylabel('probability')\n",
    "    plt.plot(xx, yy, 'r-')\n",
    "    plt.show()\n",
    "\n",
    "interactive_plot = interactive(f, E0_std=(0.1,4,0.1))\n",
    "output = interactive_plot.children[-1]\n",
    "output.layout.height = '350px'\n",
    "interactive_plot"
   ]
  },
  {
   "cell_type": "markdown",
   "metadata": {},
   "source": [
    "## Expecation, Variance to Alpha,Beta for Gamma "
   ]
  },
  {
   "cell_type": "code",
   "execution_count": 29,
   "metadata": {},
   "outputs": [],
   "source": [
    "def gamma_modes_to_params(E, S): \n",
    "    '''\n",
    "    '''\n",
    "    beta = E/S \n",
    "    alpha = E**2/S \n",
    "    \n",
    "    return alpha, beta\n",
    "    "
   ]
  },
  {
   "cell_type": "markdown",
   "metadata": {},
   "source": [
    "## Emax Prior "
   ]
  },
  {
   "cell_type": "code",
   "execution_count": 28,
   "metadata": {},
   "outputs": [
    {
     "data": {
      "application/vnd.jupyter.widget-view+json": {
       "model_id": "56a4179c270b4f03b7136d4f2bf27bc4",
       "version_major": 2,
       "version_minor": 0
      },
      "text/plain": [
       "interactive(children=(FloatSlider(value=1.0, description='emax_mean', max=1.2, min=0.1, step=0.05), FloatSlide…"
      ]
     },
     "metadata": {},
     "output_type": "display_data"
    }
   ],
   "source": [
    "# TODO: Have inputs be E[] and Var[] rather than a,b... more useful for setting up priors. \n",
    "def f(emax_mean=1, emax_var=3):\n",
    "    \n",
    "    a_emax, b_emax = gamma_modes_to_params(emax_mean, emax_var)\n",
    "    \n",
    "    plt.figure(2)\n",
    "    xx = np.linspace(0, 1.2, 100)\n",
    "    \n",
    "    rv = gamma(a_emax, scale=1/b_emax, loc=0)\n",
    "    yy = rv.pdf(xx)\n",
    "    \n",
    "    plt.title('Emax Parameter')\n",
    "    plt.xlabel('Emax')\n",
    "    plt.ylabel('probability')\n",
    "    \n",
    "    plt.ylim(0,5)\n",
    "    plt.plot(xx, yy, 'r-', label=f'alpha={a_emax:.2f}, beta={b_emax:.2f}')\n",
    "    plt.legend()\n",
    "    plt.show()\n",
    "\n",
    "interactive_plot = interactive(f, emax_mean=(0.1,1.2,0.05), emax_var=(0.01,1,0.05))\n",
    "output = interactive_plot.children[-1]\n",
    "output.layout.height = '350px'\n",
    "interactive_plot"
   ]
  },
  {
   "cell_type": "code",
   "execution_count": 6,
   "metadata": {
    "scrolled": false
   },
   "outputs": [
    {
     "data": {
      "application/vnd.jupyter.widget-view+json": {
       "model_id": "867e147bb2ba40899f3a70181bf10bd2",
       "version_major": 2,
       "version_minor": 0
      },
      "text/plain": [
       "interactive(children=(IntSlider(value=1, description='alpha_H', max=10, min=1), FloatSlider(value=0.5, descrip…"
      ]
     },
     "metadata": {},
     "output_type": "display_data"
    }
   ],
   "source": [
    "def f(alpha_H=1, beta_H=0.5):\n",
    "    f, axes = plt.subplots(1,1,figsize=(5,5))\n",
    "    \n",
    "    xx = np.linspace(0, 5, 100)\n",
    "    g = gamma(alpha_H, scale=1/beta_H, loc=0)\n",
    "    yy = g.pdf(xx)\n",
    "    \n",
    "    axes.set_xlabel('H')\n",
    "    axes.set_ylabel('probability')\n",
    "    \n",
    "    plt.xlim(0,5)\n",
    "    plt.ylim(0,5)\n",
    "    \n",
    "    axes.plot(xx,yy, 'r-')\n",
    "    plt.tight_layout()\n",
    "    plt.title('Hill Coefficient')\n",
    "    plt.show()\n",
    "\n",
    "interactive_plot = interactive(f, alpha_H=(1,10,1), beta_H=(0.1,5,0.1))\n",
    "output = interactive_plot.children[-1]\n",
    "output.layout.height = '350px'\n",
    "interactive_plot"
   ]
  },
  {
   "cell_type": "code",
   "execution_count": 7,
   "metadata": {},
   "outputs": [
    {
     "data": {
      "application/vnd.jupyter.widget-view+json": {
       "model_id": "1d840efdaeff42c3aa3fac4cf9953dc2",
       "version_major": 2,
       "version_minor": 0
      },
      "text/plain": [
       "interactive(children=(FloatSlider(value=-1.0, description='mu_ec50', max=2.0, min=-5.0), FloatSlider(value=0.5…"
      ]
     },
     "metadata": {},
     "output_type": "display_data"
    }
   ],
   "source": [
    "def f(mu_ec50=-1, std_ec50=0.5):\n",
    "    f, axes = plt.subplots(1,1,figsize=(5,5))\n",
    "    \n",
    "    xx = np.log10( np.logspace(-5, 2, 100) )\n",
    "    g = norm(mu_ec50, std_ec50)\n",
    "    yy = g.pdf(xx)\n",
    "    \n",
    "    axes.plot(xx,yy, 'r-')\n",
    "    plt.xlabel('log10 EC50')\n",
    "    plt.ylabel('probability')\n",
    "    plt.title('EC50 parameter')\n",
    "    plt.tight_layout()\n",
    "    plt.show()\n",
    "\n",
    "interactive_plot = interactive(f, mu_ec50=(-5,2,0.1), std_ec50=(0.01,5,0.1))\n",
    "output = interactive_plot.children[-1]\n",
    "output.layout.height = '350px'\n",
    "interactive_plot"
   ]
  },
  {
   "cell_type": "code",
   "execution_count": 8,
   "metadata": {},
   "outputs": [
    {
     "data": {
      "application/vnd.jupyter.widget-view+json": {
       "model_id": "381cd2d3015e48499fd5042c7aa966e5",
       "version_major": 2,
       "version_minor": 0
      },
      "text/plain": [
       "interactive(children=(IntSlider(value=1, description='a_obs', min=1), IntSlider(value=1, description='b_obs', …"
      ]
     },
     "metadata": {},
     "output_type": "display_data"
    }
   ],
   "source": [
    "def f(a_obs=1, b_obs=1):\n",
    "    plt.figure(2)\n",
    "    xx = np.linspace(0, 3, 50)\n",
    "    \n",
    "    rv = gamma(a_obs, scale=1/b_obs, loc=0)\n",
    "    yy = rv.pdf(xx)\n",
    "    \n",
    "    plt.ylim(0,5)\n",
    "    plt.plot(xx, yy, 'r-')\n",
    "    plt.xlabel('std_obs')\n",
    "    plt.ylabel('probability')\n",
    "    plt.title('Observation (Y) std')\n",
    "    plt.show()\n",
    "\n",
    "interactive_plot = interactive(f, a_obs=(1,100,1), b_obs=(1,100,1))\n",
    "output = interactive_plot.children[-1]\n",
    "output.layout.height = '350px'\n",
    "interactive_plot"
   ]
  },
  {
   "cell_type": "markdown",
   "metadata": {},
   "source": [
    "# Define Priors "
   ]
  },
  {
   "cell_type": "code",
   "execution_count": 9,
   "metadata": {
    "scrolled": false
   },
   "outputs": [],
   "source": [
    "############ PRIORS ###############\n",
    "E0_std = 0.05\n",
    "\n",
    "# uniform\n",
    "# 50,100 -> example if we have strong support for Emax around 0.5 \n",
    "a_emax = 50. #2.\n",
    "b_emax = 100. #8.\n",
    "\n",
    "# H gamma prior \n",
    "alpha_H = 1\n",
    "beta_H = 1 \n",
    "\n",
    "#EC50\n",
    "# this is in logspace, so in uM -> 10**mu_ec50\n",
    "mu_ec50 = -2.\n",
    "std_ec50 = 3.\n",
    "\n",
    "# obs error \n",
    "a_obs = 1\n",
    "b_obs = 1\n",
    "###################################"
   ]
  },
  {
   "cell_type": "markdown",
   "metadata": {},
   "source": [
    "# Define Data\n",
    "\n",
    "We'll use fake data for now. "
   ]
  },
  {
   "cell_type": "code",
   "execution_count": 11,
   "metadata": {},
   "outputs": [],
   "source": [
    "Y = torch.tensor([1., 1., 1., 0.9, 0.7, 0.6, 0.5], dtype=torch.float)\n",
    "X = torch.tensor([10./3**i for i in range(7)][::-1], dtype=torch.float).unsqueeze(-1)"
   ]
  },
  {
   "cell_type": "markdown",
   "metadata": {},
   "source": [
    "# Fit model with MCMC\n",
    "\n",
    "https://forum.pyro.ai/t/need-help-with-very-simple-model/600\n",
    "https://pyro.ai/examples/bayesian_regression_ii.html"
   ]
  },
  {
   "cell_type": "code",
   "execution_count": 12,
   "metadata": {},
   "outputs": [
    {
     "name": "stderr",
     "output_type": "stream",
     "text": [
      "Sample: 100%|██████████| 500/500 [00:32, 15.43it/s, step size=2.56e-01, acc. prob=0.949]\n"
     ]
    }
   ],
   "source": [
    "torch.manual_seed(99999)\n",
    "nuts_kernel = NUTS(model, adapt_step_size=True)\n",
    "mcmc_run = MCMC(nuts_kernel, num_samples=400, warmup_steps=100, num_chains=1)\n",
    "mcmc_run.run(X,Y)"
   ]
  },
  {
   "cell_type": "markdown",
   "metadata": {},
   "source": [
    "## visualize results"
   ]
  },
  {
   "cell_type": "code",
   "execution_count": 13,
   "metadata": {},
   "outputs": [
    {
     "data": {
      "image/png": "[encoded data removed]",
      "text/plain": [
       "<Figure size 720x360 with 6 Axes>"
      ]
     },
     "metadata": {},
     "output_type": "display_data"
    }
   ],
   "source": [
    "samples = {k: v.detach().cpu().numpy() for k, v in mcmc_run.get_samples().items()}\n",
    "\n",
    "f, axes = plt.subplots(3,2, figsize=(10,5))\n",
    "\n",
    "for ax, key in zip(axes.flat, samples.keys()): \n",
    "    \n",
    "    ax.set_title(key)\n",
    "    ax.hist(samples[key], bins=np.linspace(min(samples[key]), max(samples[key]), 50), density=True)\n",
    "    ax.set_xlabel(key)\n",
    "    ax.set_ylabel('probability')\n",
    "    \n",
    "axes.flat[-1].hist(10**samples['log_EC50'], bins=np.linspace(min(10**(samples['log_EC50'])), max(10**(samples['log_EC50'])), 50))\n",
    "axes.flat[-1].set_title('EC50')\n",
    "axes.flat[-1].set_xlabel('EC50 [uM]')\n",
    "    \n",
    "plt.tight_layout()\n",
    "plt.show()"
   ]
  },
  {
   "cell_type": "markdown",
   "metadata": {},
   "source": [
    "## plot fitted hill f-n"
   ]
  },
  {
   "cell_type": "code",
   "execution_count": 14,
   "metadata": {},
   "outputs": [
    {
     "data": {
      "image/png": "[encoded data removed]",
      "text/plain": [
       "<Figure size 504x504 with 1 Axes>"
      ]
     },
     "metadata": {},
     "output_type": "display_data"
    }
   ],
   "source": [
    "plt.figure(figsize=(7,7))\n",
    "\n",
    "xx = np.logspace(-7, 6, 200)\n",
    "\n",
    "for i,s in pd.DataFrame(samples).iterrows(): \n",
    "    yy = s.E0 + (s.Emax - s.E0)/(1+(10**s.log_EC50/xx)**s.H)\n",
    "    plt.plot(np.log10(xx), yy, 'ro', alpha=0.01)\n",
    "    \n",
    "    \n",
    "plt.plot(np.log10(X), Y, 'b.', label='data')\n",
    "plt.xlabel('log10 Concentration')\n",
    "plt.ylabel('cell_viability')\n",
    "plt.ylim(0,1.2)\n",
    "plt.legend()\n",
    "plt.title('MCMC results')\n",
    "plt.show()"
   ]
  },
  {
   "cell_type": "markdown",
   "metadata": {},
   "source": [
    "# Deprecated\n",
    "\n",
    "## EC50 example - gamma in concentration space "
   ]
  },
  {
   "cell_type": "code",
   "execution_count": null,
   "metadata": {},
   "outputs": [],
   "source": [
    "def f(alpha_ec50=1, beta_ec50=0.5):\n",
    "    f, axes = plt.subplots(1,2,figsize=(8,4))\n",
    "    \n",
    "    xx = np.logspace(-5, 2, 100)\n",
    "    g = gamma(alpha_ec50, scale=1/beta_ec50, loc=0)\n",
    "    yy = g.pdf(xx)\n",
    "    \n",
    "    g_samples = g.rvs(1000)\n",
    "    \n",
    "    axes[0].plot(xx,yy, 'r-')\n",
    "    \n",
    "    axes[1].plot(np.log10(xx), yy, 'b-')\n",
    "    plt.tight_layout()\n",
    "    plt.show()\n",
    "\n",
    "interactive_plot = interactive(f, alpha_ec50=(1,10,1), beta_ec50=(0.01,5,0.1))\n",
    "output = interactive_plot.children[-1]\n",
    "output.layout.height = '350px'\n",
    "interactive_plot"
   ]
  },
  {
   "cell_type": "markdown",
   "metadata": {},
   "source": [
    "# Fit Model with `stochastic variational inference` "
   ]
  },
  {
   "cell_type": "code",
   "execution_count": null,
   "metadata": {},
   "outputs": [],
   "source": [
    "adam = optim.Adam({\"lr\": 1e-1})\n",
    "\n",
    "svi = SVI(model, guide, adam, loss=Trace_ELBO())\n",
    "\n",
    "tic = time.time()\n",
    "STEPS = 2500\n",
    "pyro.clear_param_store() \n",
    "myplotter = plotter(['_alpha_H', '_beta_H', '_a_emax', '_b_emax', '_a_obs', '_b_obs', '_mu_ec50', '_std_ec50'], figsize=(12, 8), subplots=(2,5))\n",
    "_losses = []\n",
    "last=0\n",
    "loss = 0\n",
    "n = 100\n",
    "\n",
    "try: \n",
    "    for j in range(STEPS):\n",
    "        loss += svi.step(X, Y) \n",
    "        myplotter.record()\n",
    "        if j % n == 0:\n",
    "            print(f\"[iteration {j}] loss: {(loss / n) :.2f} [change={(loss/n - last/n):.2f}]\", end='\\t\\t\\t\\r')\n",
    "            _losses.append(np.log10(loss))\n",
    "            last = loss\n",
    "            loss = 0\n",
    "    myplotter.plot_all()\n",
    "except: \n",
    "    myplotter.plot_all()\n",
    "    raise\n",
    "    \n",
    "plt.figure()\n",
    "plt.plot(_losses)\n",
    "plt.xlabel('steps')\n",
    "plt.ylabel('loss')\n",
    "plt.show()\n",
    "\n",
    "toc = time.time()\n",
    "print(f'time to train {STEPS} iterations: {toc-tic:.2g}s')"
   ]
  },
  {
   "cell_type": "code",
   "execution_count": null,
   "metadata": {},
   "outputs": [],
   "source": [
    "x_data = torch.tensor(np.logspace(-5, 5, 200)).unsqueeze(-1)\n",
    "\n",
    "def summary(samples):\n",
    "    site_stats = {}\n",
    "    for k, v in samples.items():\n",
    "        site_stats[k] = {\n",
    "            \"mean\": torch.mean(v, 0),\n",
    "            \"std\": torch.std(v, 0),\n",
    "            \"5%\": v.kthvalue(int(len(v) * 0.05), dim=0)[0],\n",
    "            \"95%\": v.kthvalue(int(len(v) * 0.95), dim=0)[0],\n",
    "        }\n",
    "    return site_stats\n",
    "\n",
    "\n",
    "predictive = Predictive(model, guide=guide, num_samples=800,\n",
    "                        return_sites=(\"linear.weight\", \"obs\", \"_RETURN\"))\n",
    "\n",
    "samples = predictive(x_data)\n",
    "pred_summary = summary(samples)\n",
    "\n",
    "y_mean = pred_summary['obs']['mean'].detach().numpy()\n",
    "y_5 = pred_summary['obs']['5%'].detach().numpy()\n",
    "y_95 = pred_summary['obs']['95%'].detach().numpy()\n",
    "\n",
    "plt.figure(figsize=(7,7))\n",
    "plt.plot(np.log10(X),Y, 'k*', label='data')\n",
    "plt.plot(np.log10(x_data), y_mean, 'r-')\n",
    "plt.plot(np.log10(x_data), y_5, 'g-', label='95% Posterior Predictive CI')\n",
    "plt.plot(np.log10(x_data), y_95, 'g-')\n",
    "\n",
    "plt.ylim(0,1.2)\n",
    "\n",
    "plt.legend()\n",
    "plt.show()\n"
   ]
  }
 ],
 "metadata": {
  "kernelspec": {
   "display_name": "Python 3",
   "language": "python",
   "name": "python3"
  },
  "language_info": {
   "codemirror_mode": {
    "name": "ipython",
    "version": 3
   },
   "file_extension": ".py",
   "mimetype": "text/x-python",
   "name": "python",
   "nbconvert_exporter": "python",
   "pygments_lexer": "ipython3",
   "version": "3.6.5"
  },
  "toc": {
   "base_numbering": 1,
   "nav_menu": {},
   "number_sections": true,
   "sideBar": true,
   "skip_h1_title": false,
   "title_cell": "Table of Contents",
   "title_sidebar": "Contents",
   "toc_cell": false,
   "toc_position": {},
   "toc_section_display": true,
   "toc_window_display": true
  }
 },
 "nbformat": 4,
 "nbformat_minor": 2
}
